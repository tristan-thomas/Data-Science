{
 "cells": [
  {
   "cell_type": "markdown",
   "metadata": {},
   "source": [
    "<a id='top'></a>\n",
    "\n",
    "# Homework 1: Data Cleaning and Exploratory Data Analysis \n",
    "***\n",
    "\n",
    "**Name**: \n",
    "\n",
    "***\n",
    "\n",
    "This assignment is due on Canvas by **11:59 PM on Friday January 31**. Your solutions to theoretical questions should be done in Markdown directly below the associated question.  Your solutions to computational questions should include any specified Python code and results as well as written commentary on your conclusions.  Remember that you are encouraged to discuss the problems with your classmates, but **you must write all code and solutions on your own**.\n",
    "\n",
    "**NOTES**: \n",
    "\n",
    "- Any relevant data sets should be available under the **Data** module on Canvas. \n",
    "- If you're not familiar with typesetting math directly into Markdown then by all means, do your work on paper first and then typeset it later.  Remember that there is a [reference guide](https://math.meta.stackexchange.com/questions/5020/mathjax-basic-tutorial-and-quick-reference) linked on Canvas on writing math in Markdown. **All** of your written commentary, justifications and mathematical work should be in Markdown.\n",
    "- Because you can technically evaluate notebook cells is a non-linear order, it's a good idea to do Kernel $\\rightarrow$ Restart & Run All as a check before submitting your solutions.  That way if we need to run your code you will know that it will work as expected. \n",
    "- It is **bad form** to make your reader interpret numerical output from your code.  If a question asks you to compute some value from the data you should show your code output **AND** write a summary of the results in Markdown directly below your code. \n",
    "- This probably goes without saying, but... For any question that asks you to calculate something, you **must show all work and justify your answers to receive credit**. Sparse or nonexistent work will receive sparse or nonexistent credit. \n",
    "\n",
    "---\n",
    "**Shortcuts:**  [Problem 1](#p1) | [Problem 2](#p2) | [Problem 3](#p3) | [Problem 4](#p4) | [Problem 5](#p5) \n",
    "\n",
    "---"
   ]
  },
  {
   "cell_type": "code",
   "execution_count": 1,
   "metadata": {},
   "outputs": [],
   "source": [
    "import pandas as pd\n",
    "import numpy as np\n",
    "import matplotlib.pylab as plt\n",
    "from scipy import stats\n",
    "%matplotlib inline"
   ]
  },
  {
   "cell_type": "markdown",
   "metadata": {},
   "source": [
    "[Back to top](#top)\n",
    "\n",
    "<br>\n",
    "\n",
    "<a/ id='p1'></a>\n",
    "\n",
    "### (10 points) Problem 1\n",
    "***\n",
    "\n",
    "<img style=\"float: left; width: 200px; padding: 3mm;\" src=\"https://aquarium.org/wp-content/uploads/2015/08/Seahorse-female.jpg\" alt=\"Drawing\"/>  \n",
    "Poseidon is studying seahorses. Locations in each of the Atlantic, Pacific, Indian, Artic, and Southern Oceans are chosen to catch and release seahorses. After being caught, the seahorses are monitored for 24 hours while being fed organic, free-range plankton. The amount of plankton that each seahorse eats is recorded in an app on Poseidon’s phone, called Hippocampus. He collects 6 seahorses from the Arctic Ocean, 36 seahorses from the Pacific Ocean, 12 seahorses from the Indian Ocean, 6 seahorses from the Southern Ocean, and 42 seahorses from the Atlantic Ocean. \n",
    "\n",
    "Poseidon wants to get a sense for the average amount of plankton eaten by seahorses, so he uses the Hippcampus app to first order the seahorses in terms of when each seahorse was caught (first caught to last caught). Then, he selects every 3rd seahorse to see how much plankton was eaten.\n",
    "\n",
    "$$ \\quad $$\n",
    "\n",
    "**Part A:** Identify the following: \n",
    "\n",
    "- the population \n",
    "- the sample frame \n",
    "- the sample \n",
    "- the type of sample \n",
    "- the quantity of interest"
   ]
  },
  {
   "cell_type": "markdown",
   "metadata": {},
   "source": [
    "**Part A**\n",
    "\n",
    "- The **Population**           := Seahorses\n",
    "- The **Sample frame**         := Seahorses caught by Poseidon\n",
    "- The **Sample**               := The seahorses that were selected by Poseidon for measurement\n",
    "- The **Type of sample**       := Systematic sample\n",
    "- The **Quantity of Interest** := The average amount of plankton eaten by seahorses"
   ]
  },
  {
   "cell_type": "markdown",
   "metadata": {},
   "source": [
    "[Back to top](#top)\n",
    "\n",
    "<br>\n",
    "\n",
    "<a/ id='p2'></a>\n",
    "\n",
    "### (25 points) Problem 2\n",
    "***\n",
    "\n",
    "A method to investigate the sensitivity of the sample mean and sample median to extreme outliers and changes in the dataset is to replace one or more elements in a given dataset by a number $y$ and investigate the effect when $y$ changes. To illustrate this, consider the following dataset:\n",
    " \n",
    "$$  4.3 \\quad 5.2 \\quad 5.0 \\quad 3.8 \\quad 4.1 \\quad 5.5 \\quad 1.9 $$\n",
    "\n",
    "\n"
   ]
  },
  {
   "cell_type": "markdown",
   "metadata": {},
   "source": [
    "**Part A:** Compute the sample mean and sample median. Do not use the canned mean and median python functions. Write your own code to compute these quantities. You may use the python length and sort functions, but that is it."
   ]
  },
  {
   "cell_type": "code",
   "execution_count": 2,
   "metadata": {},
   "outputs": [
    {
     "name": "stdout",
     "output_type": "stream",
     "text": [
      "Calculated Mean of dataset = 4.257142857142857\n",
      "\n",
      "Calculated Median of dataset = 4.3\n"
     ]
    }
   ],
   "source": [
    "# Your code here.\n",
    "dataset = np.array([4.3, 5.2, 5.0, 3.8, 4.1, 5.5, 1.9])\n",
    "datasetSum = 0\n",
    "for xi in dataset:\n",
    "    datasetSum += xi\n",
    "datasetMean = datasetSum/len(dataset)\n",
    "print(\"Calculated Mean of dataset =\", datasetMean)\n",
    "\n",
    "dataset.sort()\n",
    "if len(dataset)//2 == 0:\n",
    "    datasetMedian = (dataset[len(dataset)/2]+dataset[(len(dataset)/2)+1])/2\n",
    "else:\n",
    "    datasetMedian = dataset[int(len(dataset)/2)]\n",
    "print(\"\\nCalculated Median of dataset =\", datasetMedian)"
   ]
  },
  {
   "cell_type": "markdown",
   "metadata": {},
   "source": [
    "**Part B:** Now, recompute the mean and the median using the python numpy functions. Compare your answers to what you computed in Part A. Do your answer match? (Hint: They should!)"
   ]
  },
  {
   "cell_type": "code",
   "execution_count": 3,
   "metadata": {},
   "outputs": [
    {
     "name": "stdout",
     "output_type": "stream",
     "text": [
      "Mean of dataset = 4.257142857142857\n",
      "Median of dataset = 4.3\n",
      "Self-calculated mean and median match canned python functions results.\n"
     ]
    }
   ],
   "source": [
    "# Your code here.\n",
    "mean = np.mean(dataset)\n",
    "median = np.median(dataset)\n",
    "print(\"Mean of dataset =\", mean)\n",
    "print(\"Median of dataset =\", median)\n",
    "\n",
    "if datasetMean == mean and datasetMedian == median:\n",
    "    print(\"Self-calculated mean and median match canned python functions results.\")\n",
    "\n"
   ]
  },
  {
   "cell_type": "markdown",
   "metadata": {},
   "source": [
    "Self-calculated mean and median match canned python functions results."
   ]
  },
  {
   "cell_type": "markdown",
   "metadata": {},
   "source": [
    "**Part C:** Now consider the following data set. \n",
    "$$  4.3 \\quad 5.2 \\quad 5.0 \\quad 3.8 \\quad 4.1 \\quad 5.5 \\quad 1.9 \\quad y$$\n",
    "\n",
    "Is there a value for $y$ that would make the mean of the data equal to 7? If so, calculate the value of $y$ that makes the mean equal to 7. If not, clearly explain why not.\n",
    "    \n",
    "Is there a value for $y$ that would make the median of the data equal to 7? If so, calculate the values of $y$ that makes the median equal to 7. If not, clearly explain why not."
   ]
  },
  {
   "cell_type": "code",
   "execution_count": 4,
   "metadata": {},
   "outputs": [
    {
     "name": "stdout",
     "output_type": "stream",
     "text": [
      "mean:  7\n",
      "If we let y = 26.2 , the mean of the data is 7.\n"
     ]
    }
   ],
   "source": [
    "# Your code here.\n",
    "dataset = np.array([4.3, 5.2, 5.0, 3.8, 4.1, 5.5, 1.9])\n",
    "dataset = np.append(dataset,7)\n",
    "while int(np.mean(dataset)) != 7:\n",
    "    dataset[-1] += 0.1\n",
    "#     print(\"Data set = \",dataset)\n",
    "#     print(\"Mean = \", int(np.mean(dataset)))\n",
    "mean = np.mean(dataset)\n",
    "print(\"mean: \", int(mean))\n",
    "print(\"If we let y =\",str(dataset[-1])[0:4],\", the mean of the data is 7.\")"
   ]
  },
  {
   "cell_type": "markdown",
   "metadata": {},
   "source": [
    "If we let $y=26.2$, the mean of the data set $[4.3, 5.2, 5.0, 3.8, 4.1, 5.5, 1.9, y]$ is 7.\n",
    "\n",
    "There is no value of $y$ that will allow the median of the data set $[4.3, 5.2, 5.0, 3.8, 4.1, 5.5, 1.9, y]$ to be 7. This is because the sample median does not depend on all of the entries in a data set. As the median is index-based, the addition of large outliers can only shift the sample median to a nearby entry."
   ]
  },
  {
   "cell_type": "markdown",
   "metadata": {},
   "source": [
    "**Part D**: Compute the sample variance and the sample standard deviation for the original dataset given in part A using the formulas given in class. You may not use the built-in python variance, standard deviation, or sum functions. Using the length and square root functions is fine."
   ]
  },
  {
   "cell_type": "code",
   "execution_count": 5,
   "metadata": {},
   "outputs": [
    {
     "name": "stdout",
     "output_type": "stream",
     "text": [
      "The sample variance is:  1.4628571428571433\n",
      "The std dev is:  1.2094863136295273\n"
     ]
    }
   ],
   "source": [
    "# Your code here.\n",
    "# Initialize data set -\n",
    "dataset = np.array([4.3, 5.2, 5.0, 3.8, 4.1, 5.5, 1.9])\n",
    "\n",
    "# Sample Variance -\n",
    "mean = np.mean(dataset)\n",
    "sumdif = 0\n",
    "for xi in dataset:\n",
    "    sumdif += ((xi - mean)**2)\n",
    "sampleVar = sumdif / (len(dataset)-1)\n",
    "print(\"The sample variance is: \",sampleVar)\n",
    "\n",
    "# Sample Standard Deviation - \n",
    "sampleStdDev = np.sqrt(sampleVar)\n",
    "print(\"The std dev is: \",sampleStdDev)\n",
    "\n"
   ]
  },
  {
   "cell_type": "markdown",
   "metadata": {},
   "source": [
    "**Part E:** Execute the following code. Does it match what you computed in part D? Why or why not? If not, how can you correct the code below?"
   ]
  },
  {
   "cell_type": "code",
   "execution_count": 6,
   "metadata": {},
   "outputs": [
    {
     "name": "stdout",
     "output_type": "stream",
     "text": [
      "The sample variance is:  1.2538775510204085\n",
      "the std dev is:  1.1197667395580244\n"
     ]
    }
   ],
   "source": [
    "dataset = [4.3, 5.2, 5.0, 3.8, 4.1, 5.5, 1.9]\n",
    "print(\"The sample variance is: \", np.var(dataset))\n",
    "print(\"the std dev is: \", np.std(dataset))"
   ]
  },
  {
   "cell_type": "markdown",
   "metadata": {},
   "source": [
    "The numpy functions .var and .std do not assume a degree of freedom of 1. Thus the divisor is $n$ as opposed to $(n-1)$. In order to correct the code, we can pass $ddof=1$ as a parameter to these numpy functions (See below)."
   ]
  },
  {
   "cell_type": "code",
   "execution_count": 7,
   "metadata": {},
   "outputs": [
    {
     "name": "stdout",
     "output_type": "stream",
     "text": [
      "The sample variance is:  1.4628571428571433\n",
      "the std dev is:  1.2094863136295273\n"
     ]
    }
   ],
   "source": [
    "# Your code here.\n",
    "print(\"The sample variance is: \", np.var(dataset, ddof=1))\n",
    "print(\"the std dev is: \", np.std(dataset, ddof=1))\n"
   ]
  },
  {
   "cell_type": "markdown",
   "metadata": {},
   "source": [
    "**Part F**: Again consider the data set from Part C: $$  4.3 \\quad 5.2 \\quad 5.0 \\quad 3.8 \\quad 4.1 \\quad 5.5 \\quad 1.9 \\quad y$$\n",
    "\n",
    "Compute the sample median for the following cases (you may use whatever built-in python functions you'd like): \n",
    "- $y=5$ \n",
    "- $y=50$ \n",
    "- $y=4.36$ \n",
    "- $y \\to \\infty$ \n",
    "- $y \\to -\\infty$"
   ]
  },
  {
   "cell_type": "code",
   "execution_count": 8,
   "metadata": {},
   "outputs": [
    {
     "name": "stdout",
     "output_type": "stream",
     "text": [
      "Sorted data set:  [1.9 3.8 4.1 4.3 5.  5.2 5.5]\n",
      "Median before adding values for y:  4.3\n",
      "Medians for y = [ 5.   50.    4.36   inf  -inf] ,\n",
      "             := [4.65, 4.65, 4.33, 4.65, 4.199999999999999]\n"
     ]
    }
   ],
   "source": [
    "# Initialize data set -\n",
    "dataset = np.array([4.3, 5.2, 5.0, 3.8, 4.1, 5.5, 1.9])\n",
    "dataset.sort()\n",
    "print(\"Sorted data set: \",dataset)\n",
    "print(\"Median before adding values for y: \",np.median(dataset))\n",
    "y = np.array([5, 50, 4.36, np.Inf, -np.Inf])\n",
    "medians = []\n",
    "for yi in y:\n",
    "    temp = np.append(dataset,yi)\n",
    "    medians.append(np.median(temp))\n",
    "print(\"Medians for y =\",y,\",\\n             :=\", medians)"
   ]
  },
  {
   "cell_type": "markdown",
   "metadata": {},
   "source": [
    "**Part G**: Think about the previous parts, above, and describe in words or mathematical notation the answer to the following question:\n",
    "\n",
    "- By varying $y$, what is the set of all the possible values that the sample median could take on?\n"
   ]
  },
  {
   "cell_type": "markdown",
   "metadata": {},
   "source": [
    "By varying $y$, the possible values that the sample median could take on := $[4.2, 4.33, 4.65]$"
   ]
  },
  {
   "cell_type": "markdown",
   "metadata": {},
   "source": [
    "**Part H**: Describe in words or mathematical notation, what happens to the sample standard deviation when $y$ is varied in the following ways: \n",
    " \n",
    "- $y \\to \\infty$ \n",
    "- $y \\to \\bar{x}$"
   ]
  },
  {
   "cell_type": "markdown",
   "metadata": {},
   "source": [
    "- as $y \\to \\infty$, the sample standard deviation approaches $\\infty$\n",
    "- $y \\to \\bar{x}$, the sample standard deviation approaches 0"
   ]
  },
  {
   "cell_type": "markdown",
   "metadata": {},
   "source": [
    "[Back to top](#top)\n",
    "\n",
    "<a/ id='p3'></a>\n",
    "\n",
    "## (25 pts) Problem 3\n",
    "*** \n",
    "Some claim that the final hours aboard the RMS Titanic were marked by \"class warfare\" in which the people with first-class tickets took all the good spots on the lifeboats; others claim that the final hours were characterized by male chivalry, in which the men valiantly gave up their positions in the boats and succumbed bravely to the depths of the Atlantic. \n",
    "\n",
    "We have the data on survival rates by class and by sex, so let's figure out whether there is evidence for these scenarios. Access the Titanic data in `titanic_data.csv` and store it in a Pandas DataFrame. The data contains information pertaining to class status (**Pclass**), survival (**Survived**), and gender (**Sex**) of passengers, among other things. Be sure to use the `titanic_data.csv` data set, *not* the `clean_titanic_data` file from the in-class notebook."
   ]
  },
  {
   "cell_type": "code",
   "execution_count": 4,
   "metadata": {},
   "outputs": [
    {
     "data": {
      "text/html": [
       "<div>\n",
       "<style scoped>\n",
       "    .dataframe tbody tr th:only-of-type {\n",
       "        vertical-align: middle;\n",
       "    }\n",
       "\n",
       "    .dataframe tbody tr th {\n",
       "        vertical-align: top;\n",
       "    }\n",
       "\n",
       "    .dataframe thead th {\n",
       "        text-align: right;\n",
       "    }\n",
       "</style>\n",
       "<table border=\"1\" class=\"dataframe\">\n",
       "  <thead>\n",
       "    <tr style=\"text-align: right;\">\n",
       "      <th></th>\n",
       "      <th>PassengerId</th>\n",
       "      <th>Survived</th>\n",
       "      <th>Pclass</th>\n",
       "      <th>Name</th>\n",
       "      <th>Sex</th>\n",
       "      <th>Age</th>\n",
       "      <th>SibSp</th>\n",
       "      <th>Parch</th>\n",
       "      <th>Ticket</th>\n",
       "      <th>Fare</th>\n",
       "      <th>Cabin</th>\n",
       "      <th>Embarked</th>\n",
       "    </tr>\n",
       "  </thead>\n",
       "  <tbody>\n",
       "    <tr>\n",
       "      <td>0</td>\n",
       "      <td>1</td>\n",
       "      <td>0</td>\n",
       "      <td>3</td>\n",
       "      <td>Braund, Mr. Owen Harris</td>\n",
       "      <td>male</td>\n",
       "      <td>36.0</td>\n",
       "      <td>1</td>\n",
       "      <td>0</td>\n",
       "      <td>A/5 21171</td>\n",
       "      <td>7.2500</td>\n",
       "      <td>NaN</td>\n",
       "      <td>S</td>\n",
       "    </tr>\n",
       "    <tr>\n",
       "      <td>1</td>\n",
       "      <td>2</td>\n",
       "      <td>1</td>\n",
       "      <td>1</td>\n",
       "      <td>Cumings, Mrs. John Bradley (Florence Briggs Th...</td>\n",
       "      <td>female</td>\n",
       "      <td>18.0</td>\n",
       "      <td>1</td>\n",
       "      <td>0</td>\n",
       "      <td>PC 17599</td>\n",
       "      <td>71.2833</td>\n",
       "      <td>C85</td>\n",
       "      <td>C</td>\n",
       "    </tr>\n",
       "    <tr>\n",
       "      <td>2</td>\n",
       "      <td>3</td>\n",
       "      <td>1</td>\n",
       "      <td>3</td>\n",
       "      <td>Heikkinen, Miss. Laina</td>\n",
       "      <td>female</td>\n",
       "      <td>14.0</td>\n",
       "      <td>0</td>\n",
       "      <td>0</td>\n",
       "      <td>STON/O2. 3101282</td>\n",
       "      <td>7.9250</td>\n",
       "      <td>NaN</td>\n",
       "      <td>S</td>\n",
       "    </tr>\n",
       "    <tr>\n",
       "      <td>3</td>\n",
       "      <td>4</td>\n",
       "      <td>1</td>\n",
       "      <td>1</td>\n",
       "      <td>Futrelle, Mrs. Jacques Heath (Lily May Peel)</td>\n",
       "      <td>female</td>\n",
       "      <td>27.0</td>\n",
       "      <td>1</td>\n",
       "      <td>0</td>\n",
       "      <td>113803</td>\n",
       "      <td>53.1000</td>\n",
       "      <td>C123</td>\n",
       "      <td>S</td>\n",
       "    </tr>\n",
       "    <tr>\n",
       "      <td>4</td>\n",
       "      <td>5</td>\n",
       "      <td>0</td>\n",
       "      <td>3</td>\n",
       "      <td>Allen, Mr. William Henry</td>\n",
       "      <td>male</td>\n",
       "      <td>63.0</td>\n",
       "      <td>0</td>\n",
       "      <td>0</td>\n",
       "      <td>373450</td>\n",
       "      <td>8.0500</td>\n",
       "      <td>NaN</td>\n",
       "      <td>S</td>\n",
       "    </tr>\n",
       "  </tbody>\n",
       "</table>\n",
       "</div>"
      ],
      "text/plain": [
       "   PassengerId  Survived  Pclass  \\\n",
       "0            1         0       3   \n",
       "1            2         1       1   \n",
       "2            3         1       3   \n",
       "3            4         1       1   \n",
       "4            5         0       3   \n",
       "\n",
       "                                                Name     Sex   Age  SibSp  \\\n",
       "0                            Braund, Mr. Owen Harris    male  36.0      1   \n",
       "1  Cumings, Mrs. John Bradley (Florence Briggs Th...  female  18.0      1   \n",
       "2                             Heikkinen, Miss. Laina  female  14.0      0   \n",
       "3       Futrelle, Mrs. Jacques Heath (Lily May Peel)  female  27.0      1   \n",
       "4                           Allen, Mr. William Henry    male  63.0      0   \n",
       "\n",
       "   Parch            Ticket     Fare Cabin Embarked  \n",
       "0      0         A/5 21171   7.2500   NaN        S  \n",
       "1      0          PC 17599  71.2833   C85        C  \n",
       "2      0  STON/O2. 3101282   7.9250   NaN        S  \n",
       "3      0            113803  53.1000  C123        S  \n",
       "4      0            373450   8.0500   NaN        S  "
      ]
     },
     "execution_count": 4,
     "metadata": {},
     "output_type": "execute_result"
    }
   ],
   "source": [
    "file_path = '../data/titanic_data.csv'\n",
    "df = pd.read_csv(file_path)\n",
    "df.head()"
   ]
  },
  {
   "cell_type": "markdown",
   "metadata": {},
   "source": [
    "**Part A**: Consider the two claims: class warfare, and male chivalry. Suppose that class warfare occurred in the final hours aboard the Titanic.  What patterns might you expect to see in the data?  Suppose that male chivalry was widespread during the final hours instead. What patterns might you then expect to see in the data?  Explain both of these hypothesized patterns in words. Are these two hypotheses mutually exclusive or not?"
   ]
  },
  {
   "cell_type": "markdown",
   "metadata": {},
   "source": [
    "If class warfare occured in the final hours aboard the Titanic, I would expect to see a larger porportion of higher class passengers to have survived in comparison to lower class passengers. If male chivalry was widespread during the final hours instead, I would expect to see a larger porportion of women to have survived in comparison to men. These hypotheses are are not mutually exclusive because the distributions of males/females across the different passengers classes could affect the relationship of these two events."
   ]
  },
  {
   "cell_type": "markdown",
   "metadata": {},
   "source": [
    "**Part B**: Use Pandas methods to create a clean data set by removing any rows from the DataFrame that are missing values corresponding to **Survived**, **Pclass**, **Age**, or **Sex**. Store the clean data in a DataFrame called dfTitanic. Be sure to show any exploratory work determining if/where there are rows with missing values."
   ]
  },
  {
   "cell_type": "code",
   "execution_count": 23,
   "metadata": {},
   "outputs": [],
   "source": [
    "# Your code here.\n",
    "dfTitanic = df.dropna()"
   ]
  },
  {
   "cell_type": "markdown",
   "metadata": {},
   "source": [
    "**Part C**: Compute the fraction of survivors according to class and gender. There are 3 passenger classes and 2 sexes in the data set, so you should report all 6 possible combinations.  Then, answer 3 questions:\n",
    "* **(i)** Within each passenger class, were men or women more/less/equally likely to survive?\n",
    "* **(ii)**  Looking at only the male or only the female passengers, how is passenger class related to the category's survival rate?\n",
    "* **(iii)**  Did men in first class or women in third class have a higher survival rate? "
   ]
  },
  {
   "cell_type": "code",
   "execution_count": 6,
   "metadata": {},
   "outputs": [
    {
     "name": "stdout",
     "output_type": "stream",
     "text": [
      "Percentage of females in the first class who survived: 95.45%\n",
      "Percentage of females in the second class who survived: 87.50%\n",
      "Percentage of females in the third class who survived: 66.67%\n",
      "Percentage of males in the first class who survived: 43.06%\n",
      "Percentage of males in the second class who survived: 66.67%\n",
      "Percentage of males in the first class who survived: 33.33%\n"
     ]
    }
   ],
   "source": [
    "# Your code here.\n",
    "femalePc1Survived = dfTitanic.loc[(dfTitanic[\"Sex\"] == \"female\") & (dfTitanic[\"Pclass\"] == 1)][\"Survived\"].sum()\n",
    "femalePc2Survived = dfTitanic.loc[(dfTitanic[\"Sex\"] == \"female\") & (dfTitanic[\"Pclass\"] == 2)][\"Survived\"].sum()\n",
    "femalePc3Survived = dfTitanic.loc[(dfTitanic[\"Sex\"] == \"female\") & (dfTitanic[\"Pclass\"] == 3)][\"Survived\"].sum()\n",
    "\n",
    "malePc1Survived = dfTitanic.loc[(dfTitanic[\"Sex\"] == \"male\") & (dfTitanic[\"Pclass\"] == 1)][\"Survived\"].sum()\n",
    "malePc2Survived = dfTitanic.loc[(dfTitanic[\"Sex\"] == \"male\") & (dfTitanic[\"Pclass\"] == 2)][\"Survived\"].sum()\n",
    "malePc3Survived = dfTitanic.loc[(dfTitanic[\"Sex\"] == \"male\") & (dfTitanic[\"Pclass\"] == 3)][\"Survived\"].sum()\n",
    "\n",
    "\n",
    "\n",
    "numFemalePc1 = dfTitanic.loc[(dfTitanic[\"Sex\"] == \"female\") & (dfTitanic[\"Pclass\"] == 1)].shape[0]\n",
    "# print(\"numFemalePc1 = \",numFemalePc1)\n",
    "# print(\"femalePc1Survived = \",femalePc1Survived)\n",
    "numFemalePc2 = dfTitanic.loc[(dfTitanic[\"Sex\"] == \"female\") & (dfTitanic[\"Pclass\"] == 2)].shape[0]\n",
    "# print(\"numFemalePc2 = \",numFemalePc2)\n",
    "# print(\"femalePc2Survived = \",femalePc2Survived)\n",
    "numFemalePc3 = dfTitanic.loc[(dfTitanic[\"Sex\"] == \"female\") & (dfTitanic[\"Pclass\"] == 3)].shape[0]\n",
    "# print(\"numFemalePc3 = \",numFemalePc3)\n",
    "# print(\"femalePc3Survived = \",femalePc3Survived)\n",
    "# print()\n",
    "\n",
    "numMalePc1 = dfTitanic.loc[(dfTitanic[\"Sex\"] == \"male\") & (dfTitanic[\"Pclass\"] == 1)].shape[0]\n",
    "# print(\"numMalePc1 = \",numMalePc1)\n",
    "# print(\"MalePc1Survived = \",malePc1Survived)\n",
    "numMalePc2 = dfTitanic.loc[(dfTitanic[\"Sex\"] == \"male\") & (dfTitanic[\"Pclass\"] == 2)].shape[0]\n",
    "# print(\"numMalePc2 = \",numMalePc2)\n",
    "# print(\"MalePc2Survived = \",malePc2Survived)\n",
    "numMalePc3 = dfTitanic.loc[(dfTitanic[\"Sex\"] == \"male\") & (dfTitanic[\"Pclass\"] == 3)].shape[0]\n",
    "# print(\"numMalePc3 = \",numMalePc3)\n",
    "# print(\"MalePc3Survived = \",malePc3Survived)\n",
    "# print()\n",
    "\n",
    "print(\"Percentage of females in the first class who survived: {:.2f}%\".format((femalePc1Survived/numFemalePc1)*100))\n",
    "print(\"Percentage of females in the second class who survived: {:.2f}%\".format((femalePc2Survived/numFemalePc2)*100))\n",
    "print(\"Percentage of females in the third class who survived: {:.2f}%\".format((femalePc3Survived/numFemalePc3)*100))\n",
    "print(\"Percentage of males in the first class who survived: {:.2f}%\".format((malePc1Survived/numMalePc1)*100))\n",
    "print(\"Percentage of males in the second class who survived: {:.2f}%\".format((malePc2Survived/numMalePc2)*100))\n",
    "print(\"Percentage of males in the first class who survived: {:.2f}%\".format((malePc3Survived/numMalePc3)*100))\n",
    "\n",
    "\n",
    "\n"
   ]
  },
  {
   "cell_type": "code",
   "execution_count": 14,
   "metadata": {},
   "outputs": [
    {
     "name": "stdout",
     "output_type": "stream",
     "text": [
      "0.925\n"
     ]
    }
   ],
   "source": [
    "print((femalePc1Survived+femalePc2Survived+femalePc3Survived)/(numFemalePc1+numFemalePc2+numFemalePc3))\n",
    "# print(femalePc1Survived+femalePc2Survived+femalePc3Survived)"
   ]
  },
  {
   "cell_type": "markdown",
   "metadata": {},
   "source": [
    "* **(i)** Within each passenger class, were men or women more/less/equally likely to survive?\n",
    "    * In **Pclass == 1**, females were more likely to survive by **52.39%**\n",
    "    * In **Pclass == 2**, females were more likely to survive by **20.83%**\n",
    "    * In **Pclass == 3**, females were more likely to survive by **33.34%**\n",
    "* **(ii)**  Looking at only the male or only the female passengers, how is passenger class related to the category's survival rate?\n",
    "    * Survival rates for women: \n",
    "        * **Pclass == 1** : **95.45%**\n",
    "        * **Pclass == 2** : **87.50%**\n",
    "        * **Pclass == 3** : **66.67%**\n",
    "    * Survival rates for men: \n",
    "        * **Pclass == 1** : **43.06%**\n",
    "        * **Pclass == 2** : **66.67%**\n",
    "        * **Pclass == 3** : **33.33%**\n",
    "    * Conclusions: \n",
    "        * In women, lower passenger class yielded a higher suvival rate\n",
    "        * In men, the highest survival rate was observed by the second passenger class. The lowest survival rate was observed by the third class.\n",
    "* **(iii)**  Did men in first class or women in third class have a higher survival rate? \n",
    "    * Women in third class had a higher survival rating than men in first class by **23.61%**"
   ]
  },
  {
   "cell_type": "markdown",
   "metadata": {},
   "source": [
    "**Part D**: Plot a histogram of all of the passenger ages, using the bin edges $[0,5,10,\\ldots,70,75,80]$ defined by `my_bins` below. How would you characterize the distribution of **AGE**? (By _characterize_ we mean that you should indicate whether the data are unimodal, bimodal, multimodal, symmetric, negatively skewed, positively skewed, etc.)  Be sure to label your axes and use your figure to justify your conclusions."
   ]
  },
  {
   "cell_type": "code",
   "execution_count": 12,
   "metadata": {},
   "outputs": [
    {
     "data": {
      "image/png": "[encoded data removed]",
      "text/plain": [
       "<Figure size 576x288 with 1 Axes>"
      ]
     },
     "metadata": {
      "needs_background": "light"
     },
     "output_type": "display_data"
    }
   ],
   "source": [
    "my_bins = range(0,85,5)\n",
    "ages = list(dfTitanic[\"Age\"])\n",
    "\n",
    "# Initialize figure\n",
    "fig, ax = plt.subplots(figsize=(8,4))\n",
    "\n",
    "# Plot histogram with custom colors\n",
    "mycolor =np.array([30,230,230])/255\n",
    "ax.hist(ages, bins=my_bins, facecolor=mycolor, edgecolor=\"white\")\n",
    "\n",
    "# Add a title\n",
    "ax.set_title(\"Ages of Passengers on The Titanic\", fontsize=20)\n",
    "\n",
    "# Add axis labels \n",
    "ax.set_xlabel(\"Age\", fontsize=16)\n",
    "ax.set_ylabel(\"Number of Passengers\", fontsize=16)\n",
    "\n",
    "# Make the grid lines lighter and put them behind data \n",
    "ax.grid(alpha=0.25)\n",
    "ax.set_axisbelow(True)"
   ]
  },
  {
   "cell_type": "markdown",
   "metadata": {},
   "source": [
    "I would characterize the distribution of AGE as Unimodal."
   ]
  },
  {
   "cell_type": "markdown",
   "metadata": {},
   "source": [
    "**Part E**: One might wonder how a passenger's age is related to the likelihood that they would survive the Titanic disaster. To answer this question graphically, plot two density histograms on the same set of axes, showing the distribution of the ages of passengers who survived, and the distribution of the ages of passengers who did not. \n",
    "* Use the bin edges $[0,5,10,\\ldots,70,75,80]$ for both histograms.\n",
    "* This problem is about a *ship* sinking in the *ocean*, so use **coral** and **seagreen** as the facecolors for your histogram boxes.\n",
    "* Plot both histograms on a single set of axes (there should be only one panel in the figure you create), but use Matplotlib/Pandas plotting functionality to make the faces of the histogram boxes somewhat transparent, so both histograms are visible.\n",
    "* Include a legend and label your axes.\n",
    "* Comment on the results. Does your figure suggest that some age ranges are more or less likely to have survived the disaster than other ages? Fully explain your reasoning and use your figure to justify your conclusions.\n",
    "* If you noticed some relationship between age and likelihood of survival, what is one possible explanation?"
   ]
  },
  {
   "cell_type": "code",
   "execution_count": 13,
   "metadata": {},
   "outputs": [
    {
     "data": {
      "text/plain": [
       "<matplotlib.legend.Legend at 0x7fe6e493dbd0>"
      ]
     },
     "execution_count": 13,
     "metadata": {},
     "output_type": "execute_result"
    },
    {
     "data": {
      "image/png": "[encoded data removed]",
      "text/plain": [
       "<Figure size 576x288 with 1 Axes>"
      ]
     },
     "metadata": {
      "needs_background": "light"
     },
     "output_type": "display_data"
    }
   ],
   "source": [
    "my_bins = range(0,85,5)\n",
    "ageSurvived = dfTitanic.loc[dfTitanic[\"Survived\"] == 1][\"Age\"]\n",
    "ageDied = dfTitanic.loc[dfTitanic[\"Survived\"] == 0][\"Age\"]\n",
    "\n",
    "# Initialize figure\n",
    "fig, ax = plt.subplots(figsize=(8,4))\n",
    "\n",
    "# Plot histogram\n",
    "ax.hist(ageSurvived, bins=my_bins, facecolor=\"coral\", edgecolor=\"white\", alpha = 0.7, label = 'Survived', density=True)\n",
    "ax.hist(ageDied, bins=my_bins, facecolor=\"seagreen\", edgecolor=\"white\", alpha = 0.5, label = 'Died', density=True)\n",
    "\n",
    "# Add a title\n",
    "ax.set_title(\"Ages of Passengers on The Titanic\", fontsize=20)\n",
    "\n",
    "# Add axis labels \n",
    "ax.set_xlabel(\"Age\", fontsize=16)\n",
    "ax.set_ylabel(\"Density of Passengers\", fontsize=16)\n",
    "\n",
    "# Make the grid lines lighter and put them behind data \n",
    "ax.grid(alpha=0.25)\n",
    "ax.set_axisbelow(True)\n",
    "\n",
    "ax.legend()"
   ]
  },
  {
   "cell_type": "markdown",
   "metadata": {},
   "source": [
    "It was much more likely for passengers of ages (15, 25) to survive than it was for passengers of age (35, 45). After the age of 35, the effect that age had on survival rates seems to decrease. One possible explanation of this is that the older individuals chose to priotize the survival of the younger passengers."
   ]
  },
  {
   "cell_type": "markdown",
   "metadata": {},
   "source": [
    "**Part F:** In Part E, we plotted two *density* histograms, showing the distributions of ages of passengers that survived or did not survive the Titanic disaster. Why would it be misleading for us to have plotted these as *frequency* histograms instead?"
   ]
  },
  {
   "cell_type": "markdown",
   "metadata": {},
   "source": [
    "If we plotted these as *frequency* histograms, it would show that age bennefited survival significanty past the age of 35."
   ]
  },
  {
   "cell_type": "markdown",
   "metadata": {},
   "source": [
    "**Part G**: Do the data suggest class warfare, male chivalry, or some combination of both characteristics in the final hours aboard the Titanic?  Justify your conclusion based on the computations done above, or do any other analysis that you like, but be sure to clearly justify your conclusion."
   ]
  },
  {
   "cell_type": "markdown",
   "metadata": {},
   "source": [
    "The data suggests that both class warfare and male chivalry were present in the final hours aboard the Titanic. The survival rates of passengers in privileged classes had a higher survival rate than lower class passengers. The survival rate of women in the third class was higher than the survival rate of men in any class. In conclusion, the data suggests both class warfare and male chivalry in the final hours aboard the Titannic."
   ]
  },
  {
   "cell_type": "markdown",
   "metadata": {},
   "source": [
    "[Back to top](#top)\n",
    "<a/ id='p4'></a>\n",
    "\n",
    "## (25 pts) Problem 4 (Snowfall in Boulder)\n",
    "***\n",
    "\n",
    "The NOAA Earth System Research Laboratory (ESRL) Physical Sciences Division (PSD) conducts scientific research to observe, understand, model, predict, and forecast weather, water, and climate extremes and their impacts. They have a website with publicly available data. One such data set contains monthly snowfall for Boulder dating back to 1889 (https://www.esrl.noaa.gov/psd/boulder/bouldersnow.html). Load ‘Boulder_Snowfall.csv’ from the Canvas page. \n",
    "\n",
    "**Part A:** To start, we need to “clean” our data set. When the amount of snow was nonzero, but too small to be recorded, this data set recorded ‘T’. Replace those instances with zeros. AFTER, you've done that, remove any rows (which correspond to years) with missing data. As a check, if you've cleaned the file correctly, there should be 121 rows remaining. "
   ]
  },
  {
   "cell_type": "code",
   "execution_count": 14,
   "metadata": {},
   "outputs": [
    {
     "data": {
      "text/html": [
       "<div>\n",
       "<style scoped>\n",
       "    .dataframe tbody tr th:only-of-type {\n",
       "        vertical-align: middle;\n",
       "    }\n",
       "\n",
       "    .dataframe tbody tr th {\n",
       "        vertical-align: top;\n",
       "    }\n",
       "\n",
       "    .dataframe thead th {\n",
       "        text-align: right;\n",
       "    }\n",
       "</style>\n",
       "<table border=\"1\" class=\"dataframe\">\n",
       "  <thead>\n",
       "    <tr style=\"text-align: right;\">\n",
       "      <th></th>\n",
       "      <th>Year</th>\n",
       "      <th>Jan</th>\n",
       "      <th>Feb</th>\n",
       "      <th>Mar</th>\n",
       "      <th>Apr</th>\n",
       "      <th>May</th>\n",
       "      <th>Jun</th>\n",
       "      <th>Jul</th>\n",
       "      <th>Aug</th>\n",
       "      <th>Sep</th>\n",
       "      <th>Oct</th>\n",
       "      <th>Nov</th>\n",
       "      <th>Dec</th>\n",
       "      <th>Total Sep-Jun</th>\n",
       "      <th>Total Jan-Dec</th>\n",
       "    </tr>\n",
       "  </thead>\n",
       "  <tbody>\n",
       "    <tr>\n",
       "      <td>6</td>\n",
       "      <td>1898</td>\n",
       "      <td>7</td>\n",
       "      <td>4.2</td>\n",
       "      <td>7.5</td>\n",
       "      <td>8.2</td>\n",
       "      <td>13</td>\n",
       "      <td>0</td>\n",
       "      <td>0</td>\n",
       "      <td>0</td>\n",
       "      <td>1</td>\n",
       "      <td>5</td>\n",
       "      <td>23.5</td>\n",
       "      <td>18</td>\n",
       "      <td>63.1</td>\n",
       "      <td>87.4</td>\n",
       "    </tr>\n",
       "    <tr>\n",
       "      <td>7</td>\n",
       "      <td>1899</td>\n",
       "      <td>13</td>\n",
       "      <td>15.2</td>\n",
       "      <td>31</td>\n",
       "      <td>8</td>\n",
       "      <td>0</td>\n",
       "      <td>0</td>\n",
       "      <td>0</td>\n",
       "      <td>0</td>\n",
       "      <td>0</td>\n",
       "      <td>2</td>\n",
       "      <td>0</td>\n",
       "      <td>12.8</td>\n",
       "      <td>114.7</td>\n",
       "      <td>82</td>\n",
       "    </tr>\n",
       "    <tr>\n",
       "      <td>8</td>\n",
       "      <td>1900</td>\n",
       "      <td>4.5</td>\n",
       "      <td>14.8</td>\n",
       "      <td>6.8</td>\n",
       "      <td>20</td>\n",
       "      <td>0</td>\n",
       "      <td>0</td>\n",
       "      <td>0</td>\n",
       "      <td>0</td>\n",
       "      <td>0</td>\n",
       "      <td>0</td>\n",
       "      <td>3.1</td>\n",
       "      <td>9.2</td>\n",
       "      <td>60.9</td>\n",
       "      <td>58.4</td>\n",
       "    </tr>\n",
       "    <tr>\n",
       "      <td>9</td>\n",
       "      <td>1901</td>\n",
       "      <td>7.5</td>\n",
       "      <td>6.2</td>\n",
       "      <td>18.5</td>\n",
       "      <td>26</td>\n",
       "      <td>0</td>\n",
       "      <td>0</td>\n",
       "      <td>0</td>\n",
       "      <td>0</td>\n",
       "      <td>0</td>\n",
       "      <td>4</td>\n",
       "      <td>0</td>\n",
       "      <td>15</td>\n",
       "      <td>70.5</td>\n",
       "      <td>77.2</td>\n",
       "    </tr>\n",
       "    <tr>\n",
       "      <td>10</td>\n",
       "      <td>1902</td>\n",
       "      <td>7.2</td>\n",
       "      <td>6.5</td>\n",
       "      <td>9.5</td>\n",
       "      <td>3</td>\n",
       "      <td>0</td>\n",
       "      <td>0</td>\n",
       "      <td>0</td>\n",
       "      <td>0</td>\n",
       "      <td>0</td>\n",
       "      <td>0.5</td>\n",
       "      <td>8</td>\n",
       "      <td>17</td>\n",
       "      <td>45.2</td>\n",
       "      <td>51.7</td>\n",
       "    </tr>\n",
       "  </tbody>\n",
       "</table>\n",
       "</div>"
      ],
      "text/plain": [
       "    Year  Jan   Feb   Mar  Apr May Jun Jul Aug Sep  Oct   Nov   Dec  \\\n",
       "6   1898    7   4.2   7.5  8.2  13   0   0   0   1    5  23.5    18   \n",
       "7   1899   13  15.2    31    8   0   0   0   0   0    2     0  12.8   \n",
       "8   1900  4.5  14.8   6.8   20   0   0   0   0   0    0   3.1   9.2   \n",
       "9   1901  7.5   6.2  18.5   26   0   0   0   0   0    4     0    15   \n",
       "10  1902  7.2   6.5   9.5    3   0   0   0   0   0  0.5     8    17   \n",
       "\n",
       "   Total Sep-Jun Total Jan-Dec  \n",
       "6           63.1          87.4  \n",
       "7          114.7            82  \n",
       "8           60.9          58.4  \n",
       "9           70.5          77.2  \n",
       "10          45.2          51.7  "
      ]
     },
     "execution_count": 14,
     "metadata": {},
     "output_type": "execute_result"
    }
   ],
   "source": [
    "# Your code here.\n",
    "file_path = '../data/Boulder_Snowfall.csv'\n",
    "df = pd.read_csv(file_path)\n",
    "df = df.replace(\"T\", \"0\", regex=True)\n",
    "df = df.replace(\"0\\xa0\", \"0\", regex=True)\n",
    "months = [\"Jan\",\"Feb\",\"Mar\",\"Apr\",\"May\",\"Jun\",\"Jul\",\"Aug\",\"Sep\",\"Oct\",\"Nov\",\"Dec\",\"Total Sep-Jun\",\"Total Jan-Dec\"]\n",
    "for month in months:\n",
    "    toDelete = df[df[month]==\".\\xa0\"].index\n",
    "    df.drop(toDelete, inplace=True)\n",
    "\n",
    "df.head()\n"
   ]
  },
  {
   "cell_type": "markdown",
   "metadata": {},
   "source": [
    "**Part B:** Plot the last column of data, “Total Jan-Dec”, from the cleaned data set. Label your axes. Do you observe any trends? Discuss.\n",
    "\n",
    "[Note: Make sure that your x-axis tick labels are in years and are readable. You may have to play around with formatting the ticklabels. plt.MaxNLocator might be helpful depending on how you plotted your data.] "
   ]
  },
  {
   "cell_type": "code",
   "execution_count": 15,
   "metadata": {},
   "outputs": [
    {
     "data": {
      "text/plain": [
       "<matplotlib.axes._subplots.AxesSubplot at 0x7fe6e4a5ded0>"
      ]
     },
     "execution_count": 15,
     "metadata": {},
     "output_type": "execute_result"
    },
    {
     "data": {
      "image/png": "[encoded data removed]",
      "text/plain": [
       "<Figure size 1440x288 with 1 Axes>"
      ]
     },
     "metadata": {
      "needs_background": "light"
     },
     "output_type": "display_data"
    }
   ],
   "source": [
    "# Your code here.\n",
    "years = np.arange(1898,2020,5)\n",
    "dfNums = df.apply(pd.to_numeric)\n",
    "\n",
    "# Initialize figure and axis\n",
    "fig, ax = plt.subplots(figsize=(20,4))\n",
    "ax.set_xticks(years)\n",
    "\n",
    "# Plot \n",
    "dfNums.plot(x ='Year', y='Total Jan-Dec', ax = ax)"
   ]
  },
  {
   "cell_type": "markdown",
   "metadata": {},
   "source": [
    "The overall trend of the data appears to be positive. It is evident that the annual snowfall is quite cyclic. The recent peaks and valleys in years since 1990 appear to be higher than average."
   ]
  },
  {
   "cell_type": "markdown",
   "metadata": {},
   "source": [
    "**Part C:** Using your cleaned data set, create a histogram of the yearly snowfall. Bin your data with a bin-width of 5 inches, starting at 35 inches. Make the edgecolor of your graph white. What is the most common amount of snow to get in a year? How does this compare with how much snow we got in 2019? "
   ]
  },
  {
   "cell_type": "code",
   "execution_count": 16,
   "metadata": {},
   "outputs": [
    {
     "name": "stdout",
     "output_type": "stream",
     "text": [
      "2019 Snowfall = 122.2\n"
     ]
    },
    {
     "data": {
      "image/png": "[encoded data removed]",
      "text/plain": [
       "<Figure size 720x360 with 1 Axes>"
      ]
     },
     "metadata": {
      "needs_background": "light"
     },
     "output_type": "display_data"
    }
   ],
   "source": [
    "# Your code here.\n",
    "my_bins = np.arange(35,161,5)\n",
    "\n",
    "print(\"2019 Snowfall = 122.2\")\n",
    "\n",
    "# Initialize figure and axis\n",
    "fig, ax = plt.subplots(figsize=(10,5))\n",
    "\n",
    "# Plot \n",
    "dfNums.hist(column = \"Total Jan-Dec\", ax = ax, bins=my_bins, facecolor=\"skyblue\", edgecolor=\"white\", alpha = 0.7)\n",
    "\n",
    "# Add a title\n",
    "ax.set_title(\"Yearly Snowfall\", fontsize=20)\n",
    "\n",
    "# Add axis labels \n",
    "ax.set_xlabel(\"Annual Snowfall in Inches\", fontsize=16)\n",
    "ax.set_ylabel(\"Number of Years\", fontsize=16)\n",
    "\n",
    "# Make the grid lines lighter and put them behind data \n",
    "ax.grid(alpha=0.25)\n",
    "ax.set_axisbelow(True)\n"
   ]
  },
  {
   "cell_type": "markdown",
   "metadata": {},
   "source": [
    "Compared to the most common amount of snow (75-80 inches), we got quite a bit of snow in 2019 (122 inches)."
   ]
  },
  {
   "cell_type": "markdown",
   "metadata": {},
   "source": [
    "**Part D:** Generate a series of 12 box plots to represent each decade starting in 1900, using your cleaned data set. Orient the box plots so that the decades (‘1900-1909’, ‘1910-1919’, … , ‘2010-2019’) appear along the x-axis, and the y-axis shows the amount of snowfall. Have all 12 boxplots as part of one graph. Include appropriate labels to your axes and a title, so that if someone not in our class were to look at your plots, they would understand what they were looking at. \n",
    "\n",
    "[Note: Data from the year 2004 was dropped during the initial cleaning of the data set (or should have been). Keep this in mind when plotting data from the 2000-2009 decade.]"
   ]
  },
  {
   "cell_type": "code",
   "execution_count": 17,
   "metadata": {},
   "outputs": [
    {
     "data": {
      "image/png": "[encoded data removed]",
      "text/plain": [
       "<Figure size 864x360 with 1 Axes>"
      ]
     },
     "metadata": {
      "needs_background": "light"
     },
     "output_type": "display_data"
    }
   ],
   "source": [
    "# Your code here.\n",
    "# Initialize figure \n",
    "fig, ax = plt.subplots(figsize=(12,5))\n",
    "\n",
    "# Plot boxplot\n",
    "yearIntvls = np.arange(1900,2021,10)\n",
    "yearLabels = np.arange(1895,2021,10)\n",
    "data = []\n",
    "xLabels = []\n",
    "for i in range(len(yearIntvls)-1):\n",
    "    xLabels.append(yearLabels[i+1])\n",
    "    dataTemp = dfNums.loc[(dfNums[\"Year\"]>=yearIntvls[i]) & (dfNums[\"Year\"]<yearIntvls[i+1])]\n",
    "    data.append(dataTemp[\"Total Jan-Dec\"])\n",
    "bp = ax.boxplot(data)\n",
    "\n",
    "# ---------------------------------------\n",
    "# Set properties of various parts of plot \n",
    "# ---------------------------------------\n",
    "\n",
    "# Change Labels of x axis\n",
    "ax.set_xticklabels(xLabels)\n",
    "\n",
    "# Change properties of boxes \n",
    "for box in bp['boxes']:\n",
    "    box.set(color='steelblue', linewidth=2)\n",
    "    \n",
    "# Change properties of whiskers \n",
    "for whisker in bp['whiskers']:\n",
    "    whisker.set(color='gray', linewidth=2)\n",
    "    \n",
    "# Change properties of caps \n",
    "for cap in bp['caps']:\n",
    "    cap.set(color='gray', linewidth=2)\n",
    "    \n",
    "# Change properties of median \n",
    "for cap in bp['medians']:\n",
    "    cap.set(color='green', linewidth=2, alpha=0.5)\n",
    "    \n",
    "# Change properties of fliers (outliers) \n",
    "for flier in bp['fliers']:\n",
    "    flier.set(markerfacecolor='steelblue', linewidth=2, marker='s', markersize=6, alpha=0.5)\n",
    "\n",
    "# Set title and vertical axis label\n",
    "ax.set_title('Snowfall By Decade', fontsize=18)\n",
    "ax.set_ylabel(\"Annual Snowfall (in inches)\", fontsize=16)\n",
    "\n",
    "# Make grid-lines lighter\n",
    "ax.grid(alpha=0.25)"
   ]
  },
  {
   "cell_type": "markdown",
   "metadata": {},
   "source": [
    "\n",
    "**Part E:** It’s almost February, so let’s study snowfall in Boulder, in February. Compute the mean February snowfall using your cleaned data set. Next calculate the Tukey 5-number summary for the February snowfall data. Lastly, generate a boxplot for the February snowfall. "
   ]
  },
  {
   "cell_type": "code",
   "execution_count": 18,
   "metadata": {},
   "outputs": [
    {
     "name": "stdout",
     "output_type": "stream",
     "text": [
      "Tukey 5-number summary := 0.00, 5.40, 5.40, 9.80, 16.30\n",
      "Sample mean for February snowfall = 5.40\n"
     ]
    },
    {
     "data": {
      "image/png": "[encoded data removed]",
      "text/plain": [
       "<Figure size 432x360 with 1 Axes>"
      ]
     },
     "metadata": {
      "needs_background": "light"
     },
     "output_type": "display_data"
    }
   ],
   "source": [
    "# Your code here. \n",
    "meanFeb = np.mean(dfNums[\"Feb\"])\n",
    "febDat = dfNums[\"Feb\"].describe()\n",
    "febMin = febDat[3]\n",
    "febQ1 = febDat[4]\n",
    "febQ2 = febDat[4]\n",
    "febQ3 = febDat[5]\n",
    "febMax = febDat[6]\n",
    "fiveNumSum = [febMin, febQ1, febQ2, febQ3, febMax]\n",
    "print(\"Tukey 5-number summary := {:.2f}, {:.2f}, {:.2f}, {:.2f}, {:.2f}\".format(fiveNumSum[0],fiveNumSum[1],fiveNumSum[2],fiveNumSum[3],fiveNumSum[4]))\n",
    "print(\"Sample mean for February snowfall = {:.2f}\".format(febQ2))\n",
    "\n",
    "fig, ax = plt.subplots(figsize=(6,5))\n",
    "bp = ax.boxplot(dfNums[\"Feb\"])\n",
    "# ---------------------------------------\n",
    "# Set properties of various parts of plot \n",
    "# ---------------------------------------\n",
    "\n",
    "# Change Labels of x axis\n",
    "ax.set_xticklabels([])\n",
    "\n",
    "# Change properties of boxes \n",
    "for box in bp['boxes']:\n",
    "    box.set(color='steelblue', linewidth=2)\n",
    "    \n",
    "# Change properties of whiskers \n",
    "for whisker in bp['whiskers']:\n",
    "    whisker.set(color='gray', linewidth=2)\n",
    "    \n",
    "# Change properties of caps \n",
    "for cap in bp['caps']:\n",
    "    cap.set(color='gray', linewidth=2)\n",
    "    \n",
    "# Change properties of median \n",
    "for cap in bp['medians']:\n",
    "    cap.set(color='green', linewidth=2, alpha=0.5)\n",
    "    \n",
    "# Change properties of fliers (outliers) \n",
    "for flier in bp['fliers']:\n",
    "    flier.set(markerfacecolor='steelblue', linewidth=2, marker='s', markersize=6, alpha=0.5)\n",
    "\n",
    "# Set title and vertical axis label\n",
    "ax.set_title('February Snowfall', fontsize=18)\n",
    "ax.set_ylabel(\"Annual Snowfall (in inches)\", fontsize=16)\n",
    "\n",
    "# Make grid-lines lighter\n",
    "ax.grid(alpha=0.25)\n"
   ]
  },
  {
   "cell_type": "markdown",
   "metadata": {},
   "source": [
    "**Part F:** Plot all of the February snowfall with a line plot, using your cleaned data set. How many inches of snow do you predict we will get this February in Boulder? Once February is over, we’ll see who was the closest!"
   ]
  },
  {
   "cell_type": "code",
   "execution_count": 19,
   "metadata": {},
   "outputs": [
    {
     "data": {
      "text/plain": [
       "<matplotlib.axes._subplots.AxesSubplot at 0x7fe6e507a510>"
      ]
     },
     "execution_count": 19,
     "metadata": {},
     "output_type": "execute_result"
    },
    {
     "data": {
      "image/png": "[encoded data removed]",
      "text/plain": [
       "<Figure size 1440x288 with 1 Axes>"
      ]
     },
     "metadata": {
      "needs_background": "light"
     },
     "output_type": "display_data"
    }
   ],
   "source": [
    "# Your code here.\n",
    "# Your code here.\n",
    "years = np.arange(1898,2020,5)\n",
    "dfNums = df.apply(pd.to_numeric)\n",
    "\n",
    "# Initialize figure and axis\n",
    "fig, ax = plt.subplots(figsize=(20,4))\n",
    "ax.set_xticks(years)\n",
    "\n",
    "# Add axis labels \n",
    "ax.set_xlabel(\"Year\", fontsize=16)\n",
    "ax.set_ylabel(\"Snowfall (In Inches)\", fontsize=16)\n",
    "\n",
    "ax.set_title(\"Yearly Snowfall For February\", fontsize=20)\n",
    "\n",
    "# Plot \n",
    "dfNums.plot(x ='Year', y='Feb', ax = ax)\n",
    "\n"
   ]
  },
  {
   "cell_type": "markdown",
   "metadata": {},
   "source": [
    "I predict we will get 42 inches of snow this Februrary"
   ]
  },
  {
   "cell_type": "markdown",
   "metadata": {},
   "source": [
    "[Back to top](#top)\n",
    "<a/ id='p5'></a>\n",
    "\n",
    "## (15 pts) Problem 5\n",
    "***\n",
    "Consider the following 3 data sets:\n",
    "\n",
    "`A=[8, 6, 7, 5, 3, 0, 9]`\n",
    "\n",
    "`B=[2, 29, 84, 2, 10, 69, 3, 31, 18]`\n",
    "\n",
    "`C` is the random data set generated by using `np.random.randint(0,1000, size=100)`\n",
    "\n",
    "For each data set, perform the following computations:\n",
    "\n",
    "**Part A:** Compute and print the mean and standard deviation of the data set. You may use built-in python functions."
   ]
  },
  {
   "cell_type": "code",
   "execution_count": 20,
   "metadata": {},
   "outputs": [
    {
     "name": "stdout",
     "output_type": "stream",
     "text": [
      "Mean of set A: 5.428571428571429\n",
      "Standard Deviation of set A: 2.87 \n",
      "\n",
      "Mean of set B: 27.555555555555557\n",
      "Standard Deviation of set B: 28.34 \n",
      "\n",
      "Mean of set C: 505.11\n",
      "Standard Deviation of set C: 279.02 \n",
      "\n"
     ]
    }
   ],
   "source": [
    "# Your code here.\n",
    "A = np.array([8, 6, 7, 5, 3, 0, 9])\n",
    "B = np.array([2, 29, 84, 2, 10, 69, 3, 31, 18])\n",
    "C = np.array(np.random.randint(0,1000, size=100))\n",
    "\n",
    "print(\"Mean of set A:\",np.mean(A))\n",
    "print(\"Standard Deviation of set A: {:.2f}\".format(np.std(A)),\"\\n\")\n",
    "print(\"Mean of set B:\",np.mean(B))\n",
    "print(\"Standard Deviation of set B: {:.2f}\".format(np.std(B)),\"\\n\")\n",
    "print(\"Mean of set C:\",np.mean(C))\n",
    "print(\"Standard Deviation of set C: {:.2f}\".format(np.std(C)),\"\\n\")\n",
    "\n"
   ]
  },
  {
   "cell_type": "markdown",
   "metadata": {},
   "source": [
    "**Part B:** Compute and print  the mean and standard deviation of the new data set formed by subtracting the original mean from each observation."
   ]
  },
  {
   "cell_type": "code",
   "execution_count": 21,
   "metadata": {},
   "outputs": [
    {
     "name": "stdout",
     "output_type": "stream",
     "text": [
      "Mean of set A: -2.5376526277146434e-16\n",
      "Standard Deviation of set A: 2.87 \n",
      "\n",
      "Mean of set B: -1.578983857244667e-15\n",
      "Standard Deviation of set B: 28.34 \n",
      "\n",
      "Mean of set C: -3.865352482534945e-14\n",
      "Standard Deviation of set C: 279.02 \n",
      "\n"
     ]
    }
   ],
   "source": [
    "# Your code here.\n",
    "A2 = A - np.mean(A)\n",
    "B2 = B - np.mean(B)\n",
    "C2 = C - np.mean(C)\n",
    "\n",
    "print(\"Mean of set A:\",np.mean(A2))\n",
    "print(\"Standard Deviation of set A: {:.2f}\".format(np.std(A2)),\"\\n\")\n",
    "print(\"Mean of set B:\",np.mean(B2))\n",
    "print(\"Standard Deviation of set B: {:.2f}\".format(np.std(B2)),\"\\n\")\n",
    "print(\"Mean of set C:\",np.mean(C2))\n",
    "print(\"Standard Deviation of set C: {:.2f}\".format(np.std(C2)),\"\\n\")"
   ]
  },
  {
   "cell_type": "markdown",
   "metadata": {},
   "source": [
    "**Part C:** Compute and print  the mean and standard deviation of the new data set formed by subtracting the original mean from each observation and then dividing by the original standard deviation."
   ]
  },
  {
   "cell_type": "code",
   "execution_count": 22,
   "metadata": {},
   "outputs": [
    {
     "name": "stdout",
     "output_type": "stream",
     "text": [
      "Mean of set A: -6.344131569286608e-17\n",
      "Standard Deviation of set A: 1.00 \n",
      "\n",
      "Mean of set B: -3.0839528461809905e-17\n",
      "Standard Deviation of set B: 1.00 \n",
      "\n",
      "Mean of set C: 1.1102230246251566e-17\n",
      "Standard Deviation of set C: 1.00 \n",
      "\n"
     ]
    }
   ],
   "source": [
    "# Your code here.\n",
    "A3 = A2 / np.std(A)\n",
    "B3 = B2 / np.std(B)\n",
    "C3 = C2 / np.std(C)\n",
    "\n",
    "print(\"Mean of set A:\",np.mean(A3))\n",
    "print(\"Standard Deviation of set A: {:.2f}\".format(np.std(A3)),\"\\n\")\n",
    "print(\"Mean of set B:\",np.mean(B3))\n",
    "print(\"Standard Deviation of set B: {:.2f}\".format(np.std(B3)),\"\\n\")\n",
    "print(\"Mean of set C:\",np.mean(C3))\n",
    "print(\"Standard Deviation of set C: {:.2f}\".format(np.std(C3)),\"\\n\")"
   ]
  },
  {
   "cell_type": "markdown",
   "metadata": {},
   "source": [
    "**Part D:** Why might this result matter?"
   ]
  },
  {
   "cell_type": "markdown",
   "metadata": {},
   "source": [
    "This result matters because it normalizes the data. Every data point will become a number between 0 and 1 with respect to the standard deviation. "
   ]
  }
 ],
 "metadata": {
  "kernelspec": {
   "display_name": "Python 3",
   "language": "python",
   "name": "python3"
  },
  "language_info": {
   "codemirror_mode": {
    "name": "ipython",
    "version": 3
   },
   "file_extension": ".py",
   "mimetype": "text/x-python",
   "name": "python",
   "nbconvert_exporter": "python",
   "pygments_lexer": "ipython3",
   "version": "3.7.4"
  }
 },
 "nbformat": 4,
 "nbformat_minor": 2
}
