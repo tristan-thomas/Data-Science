{
 "cells": [
  {
   "cell_type": "markdown",
   "metadata": {},
   "source": [
    "<a id='top'></a>\n",
    "\n",
    "# Homework 3: Normals and More Simulation\n",
    "***\n",
    "\n",
    "**Name**: Tristan Thomas\n",
    "\n",
    "***\n",
    "\n",
    "This assignment is due on Canvas by **11:59 PM on Friday March 13**. Your solutions to theoretical questions should be done in Markdown directly below the associated question.  Your solutions to computational questions should include any specified Python code and results as well as written commentary on your conclusions.  Remember that you are encouraged to discuss the problems with your classmates, but **you must write all code and solutions on your own**.\n",
    "\n",
    "**NOTES**: \n",
    "\n",
    "- Any relevant data sets should be available under the **Data** module on Canvas. To make life easier on the graders if they need to run your code, do not change the relative path names here. Instead, move the files around on your computer.\n",
    "- If you're not familiar with typesetting math directly into Markdown then by all means, do your work on paper first and then typeset it later.  Remember that there is a [reference guide](https://math.meta.stackexchange.com/questions/5020/mathjax-basic-tutorial-and-quick-reference) linked on Canvas on writing math in Markdown. **All** of your written commentary, justifications and mathematical work should be in Markdown.\n",
    "- Because you can technically evaluate notebook cells is a non-linear order, it's a good idea to do Kernel $\\rightarrow$ Restart & Run All as a check before submitting your solutions.  That way if we need to run your code you will know that it will work as expected. \n",
    "- It is **bad form** to make your reader interpret numerical output from your code.  If a question asks you to compute some value from the data you should show your code output **AND** write a summary of the results in Markdown directly below your code. \n",
    "- This probably goes without saying, but... For any question that asks you to calculate something, you **must show all work and justify your answers to receive credit**. Sparse or nonexistent work will receive sparse or nonexistent credit. \n",
    "\n",
    "---\n",
    "**Shortcuts:**  [Problem 1](#p1) | [Problem 2](#p2) | [Problem 3](#p3) | [Problem 4](#p4) | \n",
    "\n",
    "---"
   ]
  },
  {
   "cell_type": "code",
   "execution_count": 1,
   "metadata": {},
   "outputs": [],
   "source": [
    "import pandas as pd\n",
    "import numpy as np\n",
    "import math\n",
    "from scipy import stats\n",
    "import matplotlib.pylab as plt\n",
    "%matplotlib inline"
   ]
  },
  {
   "cell_type": "code",
   "execution_count": 19,
   "metadata": {},
   "outputs": [
    {
     "data": {
      "image/png": "[encoded data removed]",
      "text/plain": [
       "<Figure size 432x288 with 1 Axes>"
      ]
     },
     "metadata": {
      "needs_background": "light"
     },
     "output_type": "display_data"
    }
   ],
   "source": [
    "def worst_fun(n_sample, mu, sigma):\n",
    "    X = []\n",
    "    for k in range(n_sample):\n",
    "        X.append(9*np.var(stats.norm.rvs(mu,sigma,size=10),ddof=1)/sigma**2)\n",
    "    fig, ax = plt.subplots()\n",
    "    this = pd.Series(X)\n",
    "    this.hist(ax=ax)\n",
    "worst_fun(100000,0,1)"
   ]
  },
  {
   "cell_type": "markdown",
   "metadata": {},
   "source": [
    "<br>\n",
    "\n",
    "---\n",
    "<a id='p1'></a>\n",
    "[Back to top](#top)\n",
    "\n",
    "<img src=\"https://media.daysoftheyear.com/20171223112636/hedgehog-day1.jpg\" style=\"width: 500px;\"/>\n",
    "\n",
    "\n",
    "### [25 points] Problem 1\n",
    "\n",
    "Suppose you are modeling the probability of observing various levels of cuteness in hedgehogs you encounter.  Let $X$ be a random variable representing the observed cuteness, which is *obviously* nonnegative and has units of deci*awws*. You decide to use the following pdf for $X$:\n",
    "\n",
    "$$\n",
    "f(x) = \\begin{cases}\n",
    "         k \\ x \\ e^{\\left(-\\frac{x^2}{8}\\right)} & 0 \\leq x < \\infty \\\\\n",
    "         0                           & \\text{otherwise}\n",
    "       \\end{cases}\n",
    "$$\n",
    "where $k$ is some normalizing constant.\n"
   ]
  },
  {
   "cell_type": "markdown",
   "metadata": {},
   "source": [
    "**Part A**: Determine the value of $k$ such that $f(x)$ is a valid probability density function. Compute this by hand. Then use Python to make a plot of the probability density function for hedgehog cuteness, $f(x)$. Be sure to label your plot and axes!"
   ]
  },
  {
   "cell_type": "markdown",
   "metadata": {},
   "source": [
    "**Solution**:In order for $f(x)$ to be a valid probability density function, $\\int_{-\\infty}^\\infty f(x)dx$ must equal 1. Because $f(x)$ is defined to be 0 when $x<0$, then $\\int_0^{\\infty}f(x)dx$ must equal 1. Thus, $\\int_0^{\\infty}kxe^{-\\frac{x^2}{8}}dx$ must equal 1. $$\\int_0^{\\infty}kxe^{-\\frac{x^2}{8}}dx=-4ke^{-\\frac{x^2}{8}}\\vert{_{0}^{\\infty}}=1$$ \n",
    "with some algebraic manipulation, we can solve for $k$: \n",
    "$$-4ke^{\\frac{-x^2}{8}}\\vert{_{0}^{\\infty}}=1 $$\n",
    "$$-4ke^{\\frac{-\\infty^2}{8}}-(-4ke^{\\frac{-0^2}{8}})=1 $$\n",
    "$$-4k(e^{\\frac{-\\infty^2}{8}}-e^{\\frac{-0^2}{8}})=1 $$\n",
    "$$-4k(0-1)=1$$\n",
    "$$k=\\frac{1}{4}$$\n",
    "and arrive at the following pdf for $X$:\n",
    "\n",
    "$$\n",
    "f(x) = \\begin{cases}\n",
    "         \\frac{1}{4} \\ x \\ e^{\\left(-\\frac{x^2}{8}\\right)} & 0 \\leq x < \\infty \\\\\n",
    "         0                           & \\text{otherwise}\n",
    "       \\end{cases}\n",
    "$$"
   ]
  },
  {
   "cell_type": "code",
   "execution_count": 4,
   "metadata": {},
   "outputs": [
    {
     "data": {
      "text/plain": [
       "[<matplotlib.lines.Line2D at 0x1a12b7e310>]"
      ]
     },
     "execution_count": 4,
     "metadata": {},
     "output_type": "execute_result"
    },
    {
     "data": {
      "image/png": "[encoded data removed]",
      "text/plain": [
       "<Figure size 864x432 with 1 Axes>"
      ]
     },
     "metadata": {
      "needs_background": "light"
     },
     "output_type": "display_data"
    }
   ],
   "source": [
    "fig, ax = plt.subplots(figsize=(12,6))\n",
    "x = np.linspace(-0.1,10)\n",
    "y = []\n",
    "for xi in x:\n",
    "    exp = (-1)*((xi**2)*0.125)\n",
    "    yi = (0.25) * xi * math.exp(exp)\n",
    "    y.append(yi)\n",
    "ax.plot(x,y, color=\"steelblue\")\n",
    "ax.plot(x,np.zeros(len(x)), color=\"black\")\n",
    "ax.plot([0,0],[-0.01,0.3], color=\"black\")"
   ]
  },
  {
   "cell_type": "markdown",
   "metadata": {},
   "source": [
    "**Part B**: Compute *by hand* the cumulative density (cdf) function $F(x)$ for $X$ and provide the value of $F(2)$. You may use Python as a calculator, but make sure to set up the work by hand."
   ]
  },
  {
   "cell_type": "markdown",
   "metadata": {},
   "source": [
    "The cdf for $X$ is provided by: \n",
    "$$F(x)=P(X\\leq x)=\\int_{0}^{x}\\frac{1}{4} xe^{-\\frac{x^2}{8}}$$\n",
    "$$F(x) = -e^{-\\frac{x^2}{8}}\\vert{_{0}^{x}}=-e^{-\\frac{x^2}{8}}-(-e^{-\\frac{0^2}{8}})$$\n",
    "Thus, we arrive at the CDF for $X$:\n",
    "$$F(X)=-e^{-\\frac{x^2}{8}}+1$$\n",
    "In order to solve for $F(2)$, we can simply plug in the value $2$ for X: $$F(2)=P(X\\leq 2)=\\int_{0}^{2}\\frac{1}{4} x e^{-\\frac{x^2}{8}}=-e^{-\\frac{x^2}{8}}\\vert{_{0}^{2}}=-e^{-\\frac{2^2}{8}}-(-e^{\\frac{0^2}{8}})$$\n",
    "$$F(2)=-e^{-\\frac{2^2}{8}}+1$$\n",
    "$$F(2)=-0.6065+1=0.3935$$"
   ]
  },
  {
   "cell_type": "markdown",
   "metadata": {},
   "source": [
    "**Part C:**  Use the cdf you derived in **Part B** to calculate the median ($\\tilde{x}$) cuteness of all hedgehogs. You may use Python as a calculator, but make sure to set up the work by hand."
   ]
  },
  {
   "cell_type": "markdown",
   "metadata": {},
   "source": [
    "The median ($\\tilde{x}$) is the point $x_i$ where $F(x_i)=0.5$. \\\n",
    "$$F(x_i)=P(X\\leq x_i)=\\int_{0}^{x_i}\\frac{1}{4} x e^{-\\frac{x^2}{8}}=0.5$$\n",
    "$$F(x_i)=F(X)=-e^{-\\frac{x_i^2}{8}}+1=0.5$$\n",
    "$$F(x_i)=e^{-\\frac{x_i^2}{8}}=0.5$$\n",
    "$$F(x_i)=-\\frac{x_i^2}{8}=ln(0.5)$$\n",
    "$$F(x_i)=-x_i^2=8ln(0.5)$$\n",
    "$$F(x_i)=x_i=\\sqrt{-8ln(0.5)}$$\n",
    "Thus, $\\tilde{x}=\\sqrt{-8ln(0.5)}=2.35482004503$"
   ]
  },
  {
   "cell_type": "markdown",
   "metadata": {},
   "source": [
    "**Part D**: It is a well-known fact that any hedgehog whose cuteness exceeds 3 deciawws is **totes adorbz**. Use the cdf you computed in **Part B** to find the probability that any arbitrary hedgehog that you observe is totes adorbz. You may use Python as a calculator, but make sure to set up the work by hand."
   ]
  },
  {
   "cell_type": "markdown",
   "metadata": {},
   "source": [
    "In order to find the probability that any arbitrary hedgehog is totes adorbz, we must find $P(X>3)$ which can be calculated by $1-P(X\\leq3)$. \n",
    "$$P(TotesAdorbz)=1-F(3)$$\n",
    "$$P(TotesAdorbz)=1-(-e^{-\\frac{3^2}{8}}+1)$$\n",
    "$$P(TotesAdorbz)=e^{-\\frac{9}{8}}=0.3246$$"
   ]
  },
  {
   "cell_type": "markdown",
   "metadata": {},
   "source": [
    "**Part E:** You have been painstakingly collecting data on hedgehogs all over town, and the cuteness is damn near overwhelming. Suppose you sample 7 hedgehogs, and the cuteness of any given hedgehog is independent of the cuteness of all other hedgehogs. What is the probability that at least 3 but not all of them are totes adorbz? You may use Python as a calculator, but make sure to set up the work by hand."
   ]
  },
  {
   "cell_type": "markdown",
   "metadata": {},
   "source": [
    "Let $p$ represent the probability that a hedgedog is totes adorbz. We can represent the problem as a series of 7 bernoulli trials with $p=0.3246$."
   ]
  },
  {
   "cell_type": "markdown",
   "metadata": {
    "ExecuteTime": {
     "end_time": "2020-02-06T18:30:03.478651Z",
     "start_time": "2020-02-06T18:30:03.473088Z"
    }
   },
   "source": [
    "<br>\n",
    "\n",
    "---\n",
    "<a id='p2'></a>\n",
    "[Back to top](#top)\n",
    "### [25 points] Problem 2 - Monte Carlo Estimation of Definite Integrals\n",
    "\n",
    "One really cool application of random variables is using them to approximate integrals/area under a curve.  This method of approximating integrals is used frequently in computational science to approximate really difficult integrals that we never want to do by hand.  In this exercise you'll figure out how we can do this in practice and test your method on a relatively simple integral. "
   ]
  },
  {
   "cell_type": "markdown",
   "metadata": {},
   "source": [
    "**Part A.**  Let $X$ be a random variable representing how delicious a pie you bake is, as measured by the **Deliciousness Index** (DI).  Suppose the probability density function for $X$ is described by the raised sine probability density function:\n",
    "\n",
    "$$\n",
    "f(x) = \\begin{cases}\n",
    "         \\dfrac{1}{2\\pi}\\left(\\sin{(x)} + 1\\right) & 0 \\leq x \\leq 2\\pi \\\\\n",
    "         0                           & \\text{otherwise}\n",
    "         \\end{cases}\n",
    "$$\n",
    "\n",
    "A Deliciousness Index of $2\\pi$ is the most delicious pie you can ever hope to create, and a DI of $0$ is the most disgusting pie you have ever tasted.  \n",
    "\n",
    "Compute **by hand**, the integral of $f(x)$ for $0 \\leq x \\leq \\pi$.  Write a sentence or two to interpret your result physically, in the context of this problem set-up."
   ]
  },
  {
   "cell_type": "markdown",
   "metadata": {},
   "source": [
    "The integral of $f(x)$ for $0 \\leq x \\leq \\pi$ can be calculated by:\n",
    "$$\\int_o^\\pi \\dfrac{1}{2\\pi}\\left(\\sin{(x)} + 1\\right)dx=\\frac{x-cos(x)}{\\pi}\\vert{_{0}^{\\pi}}$$\n",
    "$$=\\frac{\\pi-cos(\\pi)}{2\\pi}-\\frac{0-cos(0)}{2pi}=0.6592-(-0.1592)=0.8183$$\n",
    "$$\\int_o^\\pi \\dfrac{1}{2\\pi}\\left(\\sin{(x)} + 1\\right)dx=0.8183 $$\n",
    "In the context of this problem set-up, this integral represents the probability that a pie is measured between 0 and $\\pi$ on the Deliciousness Index. It can also be expressed by $P(X\\leq\\pi)$."
   ]
  },
  {
   "cell_type": "markdown",
   "metadata": {},
   "source": [
    "**Part B.** Suppose we sample a random variable $X$ from $U(0,\\pi)$ and another random variable $Y$ from $U(0,1)$ and think of them as $x$- and $y$-coordinates of a point in the box $[0,\\pi] \\times [0,1]$.  If we compute the ratio of points that fall under the curve $f(x)$ to the total points sampled, what does this value estimate? "
   ]
  },
  {
   "cell_type": "markdown",
   "metadata": {},
   "source": [
    "If we compute the ratio of points that fall under the curve $f(x)$ to the total points sampled, this value will represent the area under the curve $f(x)$ as a percentage of the area of the square."
   ]
  },
  {
   "cell_type": "markdown",
   "metadata": {},
   "source": [
    "**Part C.** How could we modify the process outlined in **Part B** so that our estimator estimates the value of the desired integral?  If you need inspiration, check out the in-class notebook on Stochastic Simulation (#4), specifically, the exercise where we estimated $\\pi$!"
   ]
  },
  {
   "cell_type": "markdown",
   "metadata": {},
   "source": [
    "If we know the area of the square is ($1x\\pi$), we can find the area under the curve $f(x)$ by finding the area under the curve 𝑓(𝑥) as a percentage of the area of the square, and multiplying by the area of the square. Since we know the bounds of the curve, we must simply check if the y-value of the randomly chosen point is less than the value produced by $f(x)$, where x is the points $x$ value. "
   ]
  },
  {
   "cell_type": "markdown",
   "metadata": {},
   "source": [
    "**Part D.** Complete the function `integrate` below to compute an approximation to the definition integral $\\int_0^{\\text{ub}} f(x)dx$.  Your function should take as arguments:\n",
    "1. `num_samples` -- the number of points to sample,\n",
    "2. `ub` -- a number between $0$ and $2\\pi$ that is the upper bound of the integral, and\n",
    "3. `isPlot` -- a Boolean flag for whether or not to display a plot of the results.\n",
    "\n",
    "Your function should return an approximation of the definite integral by sampling $X$ from $U(0,\\text{ub})$ and $Y$ from $U(0,1)$. For each random draw $(X,Y)$, define the random variable $Z$ that represents whether or not the sampled $Y$ value is less than $f(X)$ for the corresponding $X$ value.\n",
    "\n",
    "Your function should perform three tasks: \n",
    "\n",
    "1. return the estimate of the value of the integral,\n",
    "2. return the sample variance of the random variable $Z$ being simulated, using the np.var function, and\n",
    "3. if `isPlot` is True, plot the curve $f(x)$ as well as the location of the points $(X,Y)$, colored according to whether they fall above or below the curve. "
   ]
  },
  {
   "cell_type": "markdown",
   "metadata": {},
   "source": []
  },
  {
   "cell_type": "markdown",
   "metadata": {},
   "source": [
    "**Part E.** Write your own small unit tests!\n",
    "\n",
    "First, what should your `integrate` function output if you plug in `ub=0`? Set that as `int_0_to_0` below.\n",
    "\n",
    "Second, what should your `integrate` function output if you plug in `ub=`$2\\pi$? Set that as `int_0_to_2pi` below.\n",
    "\n",
    "Then, you can execute the cell below to run two sanity checks. Write out **in math** (like, a definite integral) what each of these two tests is checking and **why** that is a reasonable sanity check.\n",
    "\n",
    "If these two assertions run without fail, then things seem to be working okay. Note that the upper endpoint test is stochastic, so if it fails, try running it a few times. If it fails a lot, then things are probably going wrong."
   ]
  },
  {
   "cell_type": "code",
   "execution_count": 24,
   "metadata": {
    "ExecuteTime": {
     "end_time": "2020-02-06T19:35:28.502227Z",
     "start_time": "2020-02-06T19:35:28.495603Z"
    }
   },
   "outputs": [
    {
     "name": "stdout",
     "output_type": "stream",
     "text": [
      "Estimate of integral = 0.8194310366137865\n"
     ]
    }
   ],
   "source": [
    "def integrate(num_samples, ub, isPlot):\n",
    "    z = 0\n",
    "    Z = []\n",
    "    x = []\n",
    "    y = []\n",
    "    underY = []\n",
    "    underX = []\n",
    "    if ub>(2*math.pi):\n",
    "        print(\"Err: upper bound must be below 2pi\")\n",
    "    else:\n",
    "        for ii in range(num_samples):\n",
    "            X = np.random.uniform(low=0,high=ub)\n",
    "            Y = np.random.uniform(low=0,high=1)\n",
    "            fx = ((math.sin(X)+1)/(2*math.pi))\n",
    "            if Y <= fx: \n",
    "                z+=1\n",
    "                underX.append(X)\n",
    "                underY.append(Y)\n",
    "            Z.append(z)\n",
    "            x.append(X)\n",
    "            y.append(Y)\n",
    "        area = (z/num_samples)*ub\n",
    "    if isPlot:\n",
    "        fig, ax = plt.subplots(figsize=(12,6))\n",
    "        ax.scatter(x,y, color=\"steelblue\")\n",
    "        ax.scatter(underX,underY, color=\"red\")\n",
    "        xi = np.linspace(-0.1,ub)\n",
    "        yi = []\n",
    "        for i in xi:\n",
    "            yi.append(((math.sin(i)+1)/(2*math.pi)))\n",
    "        ax.plot(xi,yi,color=\"black\")\n",
    "            \n",
    "    return area,np.var(Z)\n",
    "\n",
    "print(\"Estimate of integral =\",integrate(1000000,math.pi,False)[0])\n",
    "int_0_to_0  = 0\n",
    "int_0_to_2pi = 1\n",
    "\n",
    "\n",
    "#---------------------------------------\n",
    "# DO NOT EDIT THIS CELL BELOW HERE\n",
    "#---------------------------------------\n",
    "assert integrate(1000, 0, False)[0] == int_0_to_0, \"Error: lower endpoint test failing\"\n",
    "assert math.isclose(integrate(10000, 2 * np.pi, False)[0], int_0_to_2pi, abs_tol=0.03), \"Error: upper endpoint test failing\""
   ]
  },
  {
   "cell_type": "markdown",
   "metadata": {},
   "source": []
  },
  {
   "cell_type": "markdown",
   "metadata": {
    "ExecuteTime": {
     "end_time": "2020-02-06T19:16:58.784727Z",
     "start_time": "2020-02-06T19:16:58.777445Z"
    }
   },
   "source": [
    "**Part F.** Run your simulation with `isPlot=True` and `ub=`$\\pi$ for 1,000 samples so we can see your plot. Then, run your simulation (with `isPlot=False`) with at least 10,000 samples and estimate the value of the given integral. Be sure to leave your cells evaluated for the graders! Does your estimate agree with the exact value of the integral you computed in **Part A**? "
   ]
  },
  {
   "cell_type": "code",
   "execution_count": 25,
   "metadata": {},
   "outputs": [
    {
     "name": "stdout",
     "output_type": "stream",
     "text": [
      "Estimate of integral = 0.8211494877953002\n"
     ]
    },
    {
     "data": {
      "text/plain": [
       "(0.8513716091228339, 5516.224199000001)"
      ]
     },
     "execution_count": 25,
     "metadata": {},
     "output_type": "execute_result"
    },
    {
     "data": {
      "image/png": "[encoded data removed]",
      "text/plain": [
       "<Figure size 864x432 with 1 Axes>"
      ]
     },
     "metadata": {
      "needs_background": "light"
     },
     "output_type": "display_data"
    }
   ],
   "source": [
    "print(\"Estimate of integral =\",integrate(50000,math.pi,False)[0])\n",
    "integrate(1000,math.pi,True)"
   ]
  },
  {
   "cell_type": "markdown",
   "metadata": {
    "collapsed": true
   },
   "source": [
    "<br>\n",
    "\n",
    "---\n",
    "<a id='p3'></a>\n",
    "[Back to top](#top)\n",
    "### [25 points] Problem 3 - Mmmm... Donuts...\n",
    "\n",
    "<img src=\"http://astrokentico.s3.amazonaws.com/rojakdaily/media/1nichoras/homer%20simpson%20krispy%20kreme/main.jpg?ext=.jpg\" style=\"width:300px;\"/>\n",
    "\n",
    "You bring many donuts to work to share with your coworkers at the Boulder Nuclear Power Planet. But due to the high levels of radiation there, they must be inspected for safety. In particular, if the mean level of radiation in a sample from your batch of donuts is above [190 mSv (millisievert)](https://en.wikipedia.org/wiki/Sievert), then they are deemed unsafe and you must throw the whole batch away.\n",
    "\n",
    "You know that historically donuts at the power plant have, on average, 178 mSv of radiation, with a standard deviation of 65 mSv. For the test (to see if the donuts must be thrown away) you take the donut receipt and pick every fifth donut off it, and sample the radiation levels of those donuts. Assume you bought 245 donuts. "
   ]
  },
  {
   "cell_type": "markdown",
   "metadata": {},
   "source": [
    "**Part A:** What type of sample is this? What is the sample and what is the size of it? What is the sample space?"
   ]
  },
  {
   "cell_type": "markdown",
   "metadata": {},
   "source": [
    "This sample is a systematic sample because we are picking every fifth donut off of the receipt. The sample is a group of 49 donuts. The sample space is all of the donuts that you bought."
   ]
  },
  {
   "cell_type": "markdown",
   "metadata": {},
   "source": [
    "**Part B:** What is the probability that a donut batch is deemed unsafe?  You should at the very least set up and justify your calculation by hand (in Markdown/Mathjax), before executing any calculations in Python. But feel free to use python to actually do the calculations. You ***should*** use Python to retrieve critical values of a standard normal random variable (using a Z chart is so old school!). "
   ]
  },
  {
   "cell_type": "markdown",
   "metadata": {},
   "source": [
    "In order to calculate the probability that a donut batch is deemed unsafe, we must find $P(X>190mSv)$. This can be found by : $1-\\int_{-\\infty}^{190}\\frac{1}{\\sqrt{2\\pi}}e^{-\\frac{1}{2}(\\frac{x-178}{\\frac{65}{\\sqrt{49}}})^2}dx$. In order to use pythons stats function for calculating the $Z$ value, we must normalize the distribution. This can be done by the following calculation: $Z=\\frac{X-\\mu}{\\frac{\\sigma}{7}}$. Thus, we are finding $P(Z>\\frac{84}{65})$. Using pythons calculator, we find that $P(Z>\\frac{84}{65})=P(X>190mSv)=1-0.901875$. Thus, the probability that a donut batch is deemed unsafe is $0.098125$."
   ]
  },
  {
   "cell_type": "code",
   "execution_count": 26,
   "metadata": {},
   "outputs": [
    {
     "name": "stdout",
     "output_type": "stream",
     "text": [
      "0.9018746954484709\n",
      "P(Unsafe)= 0.09812530455152912\n"
     ]
    }
   ],
   "source": [
    "z=84/65\n",
    "print(stats.norm.cdf(z))\n",
    "print(\"P(Unsafe)=\",1-stats.norm.cdf(z))"
   ]
  },
  {
   "cell_type": "markdown",
   "metadata": {},
   "source": [
    "**Part B.** Yikes! Seems like those donuts might be dangerous, but you really do not want to throw away donuts that frequently, so you propose to store the donuts in a lead-lined donut box. But lead also is not very good for your health, so you are motivated to use the least amount of lead possible. What is the maximum mean amount of radiation $\\mu$ for our donuts to have such that the probability that we will throw donuts out due to safety concerns is at most 0.02?\n",
    "\n",
    "Calculate this **by hand**, using Python only to perform arithmetic operations and compute critical values of a standard normal random variable."
   ]
  },
  {
   "cell_type": "markdown",
   "metadata": {},
   "source": [
    "In order to find the maximum mean amount of radiation for our donuts so that the probability that we will throw out donuts is 0.02, we must find the 98th percentile of the normalized standard distribution, and trasnlate that to our distribution. The 98th percentile can be found using python and we find that it is approximately 2.053749. We then must translate this $Z$ to our distribution using the following equation: $2.053749=\\frac{190-\\mu}{\\frac{65}{\\sqrt{49}}}$. Solving for $\\mu$, we find that the maximum mean amount of radiation must be $\\mu=170.92947$"
   ]
  },
  {
   "cell_type": "code",
   "execution_count": 28,
   "metadata": {},
   "outputs": [
    {
     "name": "stdout",
     "output_type": "stream",
     "text": [
      "2.0537489106318225\n",
      "The mean must be: 170.92947440127594\n"
     ]
    }
   ],
   "source": [
    "z = stats.norm.ppf(0.98)\n",
    "print(z)\n",
    "# mu = ((z*65)-190)*(-1)\n",
    "mu = 190-(z*(65/7))\n",
    "print(\"The mean must be:\",mu)"
   ]
  },
  {
   "cell_type": "markdown",
   "metadata": {},
   "source": [
    "**Part C.**  Your supervisor at the plant decides that serving up donuts in a lead-lined box is a bad idea. Fair enough.\n",
    "\n",
    "But she is still imposing the requirement that the probability of a batch of donuts being rejected must be less than 0.02. However, she knows a different bakery that might be the solution. At Johnny's Super Consistent Baked Goods Emporium all the donuts are exactly the same in size, which means they are closer to being exactly the same in radiation content (less deviation). Suppose the mean and sample size remain unchanged. What is the largest standard deviation to satisfy this requirement?\n",
    "\n",
    "Calculate this **by hand**, using Python only to perform arithmetic operations and compute critical values of a standard normal random variable."
   ]
  },
  {
   "cell_type": "markdown",
   "metadata": {},
   "source": [
    "Solving for $\\sigma$ is very similar to the above question asking to solve for $\\mu$. Again, we use python to find the $Z$ corresponding to the 98th percentile of the normal standard distribution ($2.053749$). Then, we use the transformation equation from $Z$ to $X$ and solve for $\\sigma$: $2.053749=\\frac{190-178}{\\frac{\\sigma}{7}}$. Using pyton as a calculator, we find that the largest the standard deviation must be is $\\sigma=40.90081$."
   ]
  },
  {
   "cell_type": "code",
   "execution_count": 11,
   "metadata": {},
   "outputs": [
    {
     "name": "stdout",
     "output_type": "stream",
     "text": [
      "The standard deviation must be: 40.90081293051444\n"
     ]
    }
   ],
   "source": [
    "z = stats.norm.ppf(0.98)\n",
    "sigma = (7*(190-178))/z\n",
    "# sigma = (190-178)/z\n",
    "print(\"The standard deviation must be:\",sigma)"
   ]
  },
  {
   "cell_type": "markdown",
   "metadata": {},
   "source": [
    "**Part D:** Since donuts of differant diameters absorb differant amounts of radiation it is easy to model the standard deviation of radiation content in terms of the standard deviation in donut size. Assume the function $RD$ below takes in the standard deviation in millimeters of donut diameter $(\\sigma_d)$, and gives the radiation deviation in mSv.\n",
    "\n",
    "$\\begin{align}\n",
    "    RD(\\sigma_d) = \\frac{5^{\\sigma_d} \\times 1mSv}{6mm}\n",
    "\\end{align}$\n",
    "\n",
    "Johnny's bakes according to the following $\\textit{\"mathmatically\"}$ correct donut size:\n",
    "\n",
    "<img src=\"http://www.conquermaths.com/news/images/decinfo.jpg\" style=\"width:300px;\"/>\n",
    "\n",
    "So they strive for a donut diameter of 72 - 82 mm, with less than 5mm of standard deviation. However, we're not taking their word for it. We've taken a sample of ***36*** donuts from Johnny's to determine if their low standard deviation satisfies our requirement of less than $0.02$ chance that we throw away our donuts. The observed standard deviation in donut size was 2.8mm. Assume that the mean radiation remains unchanged from the other donuts. Do Johnny's donuts satisfy our requirement of less than $0.02$ chance that we throw them away? As per above, set up your equation in Markdown, then use python as a calculator / to retrieve standard normal values. "
   ]
  },
  {
   "cell_type": "markdown",
   "metadata": {},
   "source": [
    "Using the above formula $RD$, we can find that the standard deviation of radiation in the batch is $\\frac{5^{2.8}}{6}$. We can then use this as our $\\sigma$ in order to find our $Z$ value: \n",
    "$$Z = \\frac{190-178}{\\frac{\\frac{5^{2.8}}{6}}{\\sqrt{36}}} $$\n",
    "We can then use pythons stats.norm.cdf(Z) function to find that the probability that the batch is unsafe is $9.287242271893703e^-{7}$. This probability is significantly less than 0.02 and thus, Johnny's donuts satisfy our requirement."
   ]
  },
  {
   "cell_type": "code",
   "execution_count": 29,
   "metadata": {},
   "outputs": [
    {
     "name": "stdout",
     "output_type": "stream",
     "text": [
      "Standard deviation of radiation: 15.099576326618653\n",
      "9.287242271893703e-07\n"
     ]
    }
   ],
   "source": [
    "RD = (5**2.8)/6\n",
    "print(\"Standard deviation of radiation:\",RD)\n",
    "Z = ((190-178)/(RD/6))\n",
    "print(1-stats.norm.cdf(Z))"
   ]
  },
  {
   "cell_type": "markdown",
   "metadata": {
    "collapsed": true
   },
   "source": [
    "**Part E.** Can you think of any potential issues with using a normal distribution to model the radiation content of our donuts? Think about a really wide standard deviation, and a way smaller mean (say $\\mu = 2$). "
   ]
  },
  {
   "cell_type": "markdown",
   "metadata": {},
   "source": [
    "One potential issue with using a normal distribution to model the radtion content of our donuts is that radiation cannot be negative. Thus, if we have a mean of 2 and a really wide standard deviation, then a significant amount of our distribution will be negative. As you cannot have negative amounts of radiation, this will prove to be innacurate. "
   ]
  },
  {
   "cell_type": "markdown",
   "metadata": {},
   "source": [
    "<br>\n",
    "\n",
    "---\n",
    "<a id='p4'></a>\n",
    "[Back to top](#top)\n",
    "\n",
    "##  [25 points] Problem 4 - CDF Inversion Sampling\n",
    "\n",
    "In notebook 12, we looked at one method many pieces of statistical software use to turn pseudorandom numbers coming from the $U(0,1)$ distribution into those with a normal distribution.  In this problem we examine another such method.\n",
    "\n",
    "**Part A:** Simulating an Exponential\n",
    "\n",
    "i ) The exponential distribution has pdf $f(x)= \\lambda e^{-\\lambda x}$ for $x\\ge 0$.  Use the following markdown cell to compute by hand the cdf of the exponential."
   ]
  },
  {
   "cell_type": "markdown",
   "metadata": {},
   "source": [
    "The CDF is given by: $F(X)=P(X\\leq x)=\\int_0^x \\lambda e^{-\\lambda x}dx$. \n",
    "$$F(X)=-e^{\\lambda(-x)}\\vert{_{0}^{x}}$$\n",
    "$$F(X) = -e^{\\lambda(-x)}-(-e^{\\lambda(-0)}) $$\n",
    "$$F(X) = -e^{\\lambda(-x)}+1 $$ "
   ]
  },
  {
   "cell_type": "markdown",
   "metadata": {},
   "source": [
    "ii) The cdf is a function that takes x-values(or times, in the case of the exponential) and returns probabilities as the y-values.  Specifically, it returns the probability of a random variable X being less than or equal to some x value($P(X \\leq x)$).  Find the *inverse* of this function, that takes the probability as the the input and returns times(x-values)."
   ]
  },
  {
   "cell_type": "markdown",
   "metadata": {},
   "source": [
    "For the sake of the inversion, let $y=F(x)$:\n",
    "$$y=-e^{\\lambda(-x)}+1$$\n",
    "$$y-1=-e^{\\lambda(-x)}$$\n",
    "$$ln(y-1)=-\\lambda(-x)$$\n",
    "$$x=\\frac{-ln(F(x)-1)}{\\lambda} $$\n",
    "Thus, $F^{-1}(x)=\\frac{-ln(F(x)-1)}{\\lambda}$"
   ]
  },
  {
   "cell_type": "markdown",
   "metadata": {},
   "source": [
    "iii) Simulate 1000 random $U(0,1)$ variables.  Since these are numbers in $[0,1]$, we could think of them as random *probabilities*.  Plug these *probabilities* into the function you found in part ii), then plot a histogram of the results.  Overlay the theoretical density of the exponential.  For each of these, use $\\lambda=1/8$."
   ]
  },
  {
   "cell_type": "code",
   "execution_count": 30,
   "metadata": {},
   "outputs": [
    {
     "data": {
      "image/png": "[encoded data removed]",
      "text/plain": [
       "<Figure size 576x288 with 1 Axes>"
      ]
     },
     "metadata": {
      "needs_background": "light"
     },
     "output_type": "display_data"
    }
   ],
   "source": [
    "invX=np.random.uniform(low=0,high=1,size=1000)\n",
    "invY=[]\n",
    "lmbda = 1/8\n",
    "for xTemp in invX:\n",
    "    x = xTemp\n",
    "    x = -((math.log(-x+1))/lmbda)\n",
    "    invY.append(x)\n",
    "expX = np.linspace(0,1)\n",
    "expY = []\n",
    "for xTemp in expX:\n",
    "    x = xTemp\n",
    "    x = lmbda*math.exp(-lmbda*x)\n",
    "    expY.append(x)\n",
    "    \n",
    "# Initialize figure\n",
    "fig, ax = plt.subplots(figsize=(8,4))\n",
    "\n",
    "# Plot histogram with custom colors\n",
    "ax.hist(invY, facecolor=\"blue\", edgecolor=\"white\", density = True)\n",
    "\n",
    "\n",
    "# Make the grid lines lighter and put them behind data \n",
    "ax.grid(alpha=0.25)\n",
    "ax.set_axisbelow(True)\n",
    "    \n",
    "    "
   ]
  },
  {
   "cell_type": "markdown",
   "metadata": {},
   "source": [
    "**Part B:** Simulating a new distribution\n",
    "\n",
    "i) Consider a continuous random variable X given by $f(x)=\\frac{\\cos(x)}{2}$ for $x \\in [\\frac{-\\pi}{2}, \\frac{\\pi}{2}]$.  Find the cdf and inverse cdf of X."
   ]
  },
  {
   "cell_type": "markdown",
   "metadata": {},
   "source": [
    "The cdf of X is given by $F(X) = \\frac{sin(x)}{2}$.\\\n",
    "The inverse of $F(X)$ is given by $F^{-1}(x)=arcsin(2F(x))$\n"
   ]
  },
  {
   "cell_type": "markdown",
   "metadata": {},
   "source": [
    "ii) Simulate draws from X by simluating 1000 $U[0,1]$ random variables, use them as random *probabilities* and plug them into the inverse cdf you just found.  As in part a), plot a histogram of the random variables(x) derived from the inverse cdf against their density function."
   ]
  },
  {
   "cell_type": "code",
   "execution_count": 34,
   "metadata": {},
   "outputs": [
    {
     "ename": "ValueError",
     "evalue": "math domain error",
     "output_type": "error",
     "traceback": [
      "\u001b[0;31m---------------------------------------------------------------------------\u001b[0m",
      "\u001b[0;31mValueError\u001b[0m                                Traceback (most recent call last)",
      "\u001b[0;32m<ipython-input-34-b31f6a5c1f54>\u001b[0m in \u001b[0;36m<module>\u001b[0;34m\u001b[0m\n\u001b[1;32m      2\u001b[0m \u001b[0my\u001b[0m\u001b[0;34m=\u001b[0m\u001b[0;34m[\u001b[0m\u001b[0;34m]\u001b[0m\u001b[0;34m\u001b[0m\u001b[0;34m\u001b[0m\u001b[0m\n\u001b[1;32m      3\u001b[0m \u001b[0;32mfor\u001b[0m \u001b[0mxi\u001b[0m \u001b[0;32min\u001b[0m \u001b[0mx\u001b[0m\u001b[0;34m:\u001b[0m\u001b[0;34m\u001b[0m\u001b[0;34m\u001b[0m\u001b[0m\n\u001b[0;32m----> 4\u001b[0;31m     \u001b[0my\u001b[0m\u001b[0;34m.\u001b[0m\u001b[0mappend\u001b[0m\u001b[0;34m(\u001b[0m\u001b[0mmath\u001b[0m\u001b[0;34m.\u001b[0m\u001b[0masin\u001b[0m\u001b[0;34m(\u001b[0m\u001b[0;36m2\u001b[0m\u001b[0;34m*\u001b[0m\u001b[0mxi\u001b[0m\u001b[0;34m)\u001b[0m\u001b[0;34m)\u001b[0m\u001b[0;34m\u001b[0m\u001b[0;34m\u001b[0m\u001b[0m\n\u001b[0m\u001b[1;32m      5\u001b[0m \u001b[0;31m# Initialize figure\u001b[0m\u001b[0;34m\u001b[0m\u001b[0;34m\u001b[0m\u001b[0;34m\u001b[0m\u001b[0m\n\u001b[1;32m      6\u001b[0m \u001b[0mfig\u001b[0m\u001b[0;34m,\u001b[0m \u001b[0max\u001b[0m \u001b[0;34m=\u001b[0m \u001b[0mplt\u001b[0m\u001b[0;34m.\u001b[0m\u001b[0msubplots\u001b[0m\u001b[0;34m(\u001b[0m\u001b[0mfigsize\u001b[0m\u001b[0;34m=\u001b[0m\u001b[0;34m(\u001b[0m\u001b[0;36m8\u001b[0m\u001b[0;34m,\u001b[0m\u001b[0;36m4\u001b[0m\u001b[0;34m)\u001b[0m\u001b[0;34m)\u001b[0m\u001b[0;34m\u001b[0m\u001b[0;34m\u001b[0m\u001b[0m\n",
      "\u001b[0;31mValueError\u001b[0m: math domain error"
     ]
    }
   ],
   "source": [
    "x = np.random.uniform(low=0,high=1,size=1000)\n",
    "y=[]\n",
    "for xi in x:\n",
    "    y.append(math.asin(2*xi))\n",
    "# Initialize figure\n",
    "fig, ax = plt.subplots(figsize=(8,4))\n",
    "\n",
    "# Plot histogram with custom colors\n",
    "ax.hist(y, facecolor=\"blue\", edgecolor=\"white\", density = True)\n",
    "\n",
    "\n",
    "# Make the grid lines lighter and put them behind data \n",
    "ax.grid(alpha=0.25)\n",
    "ax.set_axisbelow(True)"
   ]
  },
  {
   "cell_type": "markdown",
   "metadata": {},
   "source": [
    "**Part C:** Generalizing\n",
    "\n",
    "Describe in words how this process might work on a discrete random variable.  You may use the Bernoulli as an example, if you wish."
   ]
  },
  {
   "cell_type": "markdown",
   "metadata": {},
   "source": []
  },
  {
   "cell_type": "code",
   "execution_count": null,
   "metadata": {},
   "outputs": [],
   "source": []
  }
 ],
 "metadata": {
  "kernelspec": {
   "display_name": "Python 3",
   "language": "python",
   "name": "python3"
  },
  "language_info": {
   "codemirror_mode": {
    "name": "ipython",
    "version": 3
   },
   "file_extension": ".py",
   "mimetype": "text/x-python",
   "name": "python",
   "nbconvert_exporter": "python",
   "pygments_lexer": "ipython3",
   "version": "3.7.4"
  }
 },
 "nbformat": 4,
 "nbformat_minor": 2
}
